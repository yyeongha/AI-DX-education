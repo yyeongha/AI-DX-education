{
 "cells": [
  {
   "cell_type": "markdown",
   "id": "64fbc1a4-60fb-4b1e-b414-5753f82006d5",
   "metadata": {},
   "source": [
    "# 라이브러리 불러오기"
   ]
  },
  {
   "cell_type": "code",
   "execution_count": 6,
   "id": "87bd8bf3-93d2-42a4-ac9c-857227a06629",
   "metadata": {},
   "outputs": [],
   "source": [
    "import os\n",
    "import pandas as pd\n",
    "import numpy as np\n",
    "import re\n",
    "import matplotlib.pyplot as plt"
   ]
  },
  {
   "cell_type": "code",
   "execution_count": 2,
   "id": "130defb5-bcfd-4069-95b2-420fd579fc4b",
   "metadata": {},
   "outputs": [
    {
     "name": "stdout",
     "output_type": "stream",
     "text": [
      "Requirement already satisfied: matplotlib in c:\\users\\hi\\anaconda3\\envs\\p310_crawling\\lib\\site-packages (3.8.4)\n",
      "Requirement already satisfied: contourpy>=1.0.1 in c:\\users\\hi\\anaconda3\\envs\\p310_crawling\\lib\\site-packages (from matplotlib) (1.2.1)\n",
      "Requirement already satisfied: cycler>=0.10 in c:\\users\\hi\\anaconda3\\envs\\p310_crawling\\lib\\site-packages (from matplotlib) (0.12.1)\n",
      "Requirement already satisfied: fonttools>=4.22.0 in c:\\users\\hi\\anaconda3\\envs\\p310_crawling\\lib\\site-packages (from matplotlib) (4.51.0)\n",
      "Requirement already satisfied: kiwisolver>=1.3.1 in c:\\users\\hi\\anaconda3\\envs\\p310_crawling\\lib\\site-packages (from matplotlib) (1.4.5)\n",
      "Requirement already satisfied: numpy>=1.21 in c:\\users\\hi\\anaconda3\\envs\\p310_crawling\\lib\\site-packages (from matplotlib) (1.26.4)\n",
      "Requirement already satisfied: packaging>=20.0 in c:\\users\\hi\\anaconda3\\envs\\p310_crawling\\lib\\site-packages (from matplotlib) (24.0)\n",
      "Requirement already satisfied: pillow>=8 in c:\\users\\hi\\anaconda3\\envs\\p310_crawling\\lib\\site-packages (from matplotlib) (10.3.0)\n",
      "Requirement already satisfied: pyparsing>=2.3.1 in c:\\users\\hi\\anaconda3\\envs\\p310_crawling\\lib\\site-packages (from matplotlib) (3.1.2)\n",
      "Requirement already satisfied: python-dateutil>=2.7 in c:\\users\\hi\\anaconda3\\envs\\p310_crawling\\lib\\site-packages (from matplotlib) (2.9.0.post0)\n",
      "Requirement already satisfied: six>=1.5 in c:\\users\\hi\\anaconda3\\envs\\p310_crawling\\lib\\site-packages (from python-dateutil>=2.7->matplotlib) (1.16.0)\n"
     ]
    }
   ],
   "source": [
    "!pip install matplotlib"
   ]
  },
  {
   "cell_type": "code",
   "execution_count": 5,
   "id": "7b7a800c-281e-463f-adda-3daa332e7464",
   "metadata": {},
   "outputs": [
    {
     "data": {
      "image/png": "[encoded data removed]",
      "text/plain": [
       "<Figure size 640x480 with 1 Axes>"
      ]
     },
     "metadata": {},
     "output_type": "display_data"
    }
   ],
   "source": [
    "# 그래프 테스트\n",
    "plt.plot([1,2,3,4])\n",
    "plt.show()"
   ]
  },
  {
   "cell_type": "code",
   "execution_count": 7,
   "id": "13214ced-881e-41d0-a4b6-9bf06905b2b3",
   "metadata": {},
   "outputs": [],
   "source": [
    "# 특정 경로에 있는 csv 파일만 불러오기\n",
    "path = \"./search_file/\""
   ]
  },
  {
   "cell_type": "code",
   "execution_count": 8,
   "id": "216e2cee-2a84-4985-afd2-c72f3d941921",
   "metadata": {},
   "outputs": [],
   "source": [
    "# listdir 은 현재 경로에 있는 모든 파일을 확인\n",
    "file_list = os.listdir(path) "
   ]
  },
  {
   "cell_type": "code",
   "execution_count": 9,
   "id": "2b281958-d8ca-41aa-8039-c90600d1336d",
   "metadata": {},
   "outputs": [
    {
     "data": {
      "text/plain": [
       "['test.py', '알리.csv', '중국쇼핑.csv', '테무.csv']"
      ]
     },
     "execution_count": 9,
     "metadata": {},
     "output_type": "execute_result"
    }
   ],
   "source": [
    "file_list"
   ]
  },
  {
   "cell_type": "markdown",
   "id": "f6c88430-451d-46c5-80ef-b5e52d7d4c98",
   "metadata": {},
   "source": [
    "## 람다함수\n",
    "['test.py', '알리.csv', '중국쇼핑.csv', '테무.csv']\n",
    "여기에서 나는 확장자가 csv 파일만 가져오고 싶다. => 명령어 한줄로\n",
    "1. 결과물 -> list []\n",
    "2. 반복처리 -> for 문\n",
    "for file in file_list:\n",
    "  if file.endswith('.csv'):\n",
    "    fileList.append(file)"
   ]
  },
  {
   "cell_type": "code",
   "execution_count": 11,
   "id": "2347653f-40e1-495c-9ae4-8fe6e8020c2b",
   "metadata": {},
   "outputs": [
    {
     "data": {
      "text/plain": [
       "['알리.csv', '중국쇼핑.csv', '테무.csv']"
      ]
     },
     "execution_count": 11,
     "metadata": {},
     "output_type": "execute_result"
    }
   ],
   "source": [
    "# 디렉토리의 파일 중에서 csv 파일만 따로 배열로 처리 : 람다\n",
    "fileList = []\n",
    "for file in file_list:\n",
    "    if file.endswith('.csv'):\n",
    "        fileList.append(file)\n",
    "fileList"
   ]
  },
  {
   "cell_type": "code",
   "execution_count": 13,
   "id": "febf7ea6-6b90-4488-8ebe-50deb39a1120",
   "metadata": {},
   "outputs": [
    {
     "data": {
      "text/plain": [
       "['알리.csv', '중국쇼핑.csv', '테무.csv']"
      ]
     },
     "execution_count": 13,
     "metadata": {},
     "output_type": "execute_result"
    }
   ],
   "source": [
    "# 람다 함수\n",
    "fileList1 = [file for file in file_list if file.endswith('.csv')]\n",
    "fileList1"
   ]
  },
  {
   "cell_type": "code",
   "execution_count": 14,
   "id": "73888366-efb9-4715-be5d-d76d68934035",
   "metadata": {},
   "outputs": [
    {
     "data": {
      "text/html": [
       "<div>\n",
       "<style scoped>\n",
       "    .dataframe tbody tr th:only-of-type {\n",
       "        vertical-align: middle;\n",
       "    }\n",
       "\n",
       "    .dataframe tbody tr th {\n",
       "        vertical-align: top;\n",
       "    }\n",
       "\n",
       "    .dataframe thead th {\n",
       "        text-align: right;\n",
       "    }\n",
       "</style>\n",
       "<table border=\"1\" class=\"dataframe\">\n",
       "  <thead>\n",
       "    <tr style=\"text-align: right;\">\n",
       "      <th></th>\n",
       "      <th>제목</th>\n",
       "      <th>링크</th>\n",
       "    </tr>\n",
       "  </thead>\n",
       "  <tbody>\n",
       "    <tr>\n",
       "      <th>0</th>\n",
       "      <td>알리익스프레스 배송</td>\n",
       "      <td>https://kin.naver.com/qna/detail.naver?d1id=8&amp;...</td>\n",
       "    </tr>\n",
       "    <tr>\n",
       "      <th>1</th>\n",
       "      <td>알리직구 요산측정기 환산</td>\n",
       "      <td>https://kin.naver.com/qna/detail.naver?d1id=7&amp;...</td>\n",
       "    </tr>\n",
       "    <tr>\n",
       "      <th>2</th>\n",
       "      <td>알리 배송조회</td>\n",
       "      <td>https://kin.naver.com/qna/detail.naver?d1id=8&amp;...</td>\n",
       "    </tr>\n",
       "    <tr>\n",
       "      <th>3</th>\n",
       "      <td>알리 배송</td>\n",
       "      <td>https://kin.naver.com/qna/detail.naver?d1id=5&amp;...</td>\n",
       "    </tr>\n",
       "    <tr>\n",
       "      <th>4</th>\n",
       "      <td>위챗,알리 페이 한국에서 송금 받을때</td>\n",
       "      <td>https://kin.naver.com/qna/detail.naver?d1id=9&amp;...</td>\n",
       "    </tr>\n",
       "  </tbody>\n",
       "</table>\n",
       "</div>"
      ],
      "text/plain": [
       "                     제목                                                 링크\n",
       "0            알리익스프레스 배송  https://kin.naver.com/qna/detail.naver?d1id=8&...\n",
       "1         알리직구 요산측정기 환산  https://kin.naver.com/qna/detail.naver?d1id=7&...\n",
       "2               알리 배송조회  https://kin.naver.com/qna/detail.naver?d1id=8&...\n",
       "3                 알리 배송  https://kin.naver.com/qna/detail.naver?d1id=5&...\n",
       "4  위챗,알리 페이 한국에서 송금 받을때  https://kin.naver.com/qna/detail.naver?d1id=9&..."
      ]
     },
     "execution_count": 14,
     "metadata": {},
     "output_type": "execute_result"
    }
   ],
   "source": [
    "# 판다스 파일 불러오기\n",
    "df = pd.read_csv('./search_file/알리.csv')\n",
    "df.head()"
   ]
  },
  {
   "cell_type": "code",
   "execution_count": 19,
   "id": "baf3fca6-8333-4162-a9ef-7ff7d25ea8ab",
   "metadata": {},
   "outputs": [],
   "source": [
    "#  배열의 여러 csv 파일을 자동 병합해서 하나의 df 파일로 만드는 처리\n",
    "dfCsv = pd.DataFrame()\n",
    "for i in fileList1:\n",
    "    data = pd.read_csv(path + i, encoding='utf-8')\n",
    "    dfCsv = pd.concat([dfCsv,data])\n",
    "\n",
    "dfCsv = dfCsv.reset_index(drop=True)"
   ]
  },
  {
   "cell_type": "code",
   "execution_count": 20,
   "id": "c44b691c-68d3-4582-81ba-76c11c1b3ea4",
   "metadata": {},
   "outputs": [
    {
     "data": {
      "text/html": [
       "<div>\n",
       "<style scoped>\n",
       "    .dataframe tbody tr th:only-of-type {\n",
       "        vertical-align: middle;\n",
       "    }\n",
       "\n",
       "    .dataframe tbody tr th {\n",
       "        vertical-align: top;\n",
       "    }\n",
       "\n",
       "    .dataframe thead th {\n",
       "        text-align: right;\n",
       "    }\n",
       "</style>\n",
       "<table border=\"1\" class=\"dataframe\">\n",
       "  <thead>\n",
       "    <tr style=\"text-align: right;\">\n",
       "      <th></th>\n",
       "      <th>제목</th>\n",
       "      <th>링크</th>\n",
       "    </tr>\n",
       "  </thead>\n",
       "  <tbody>\n",
       "    <tr>\n",
       "      <th>0</th>\n",
       "      <td>알리익스프레스 배송</td>\n",
       "      <td>https://kin.naver.com/qna/detail.naver?d1id=8&amp;...</td>\n",
       "    </tr>\n",
       "    <tr>\n",
       "      <th>1</th>\n",
       "      <td>알리직구 요산측정기 환산</td>\n",
       "      <td>https://kin.naver.com/qna/detail.naver?d1id=7&amp;...</td>\n",
       "    </tr>\n",
       "    <tr>\n",
       "      <th>2</th>\n",
       "      <td>알리 배송조회</td>\n",
       "      <td>https://kin.naver.com/qna/detail.naver?d1id=8&amp;...</td>\n",
       "    </tr>\n",
       "    <tr>\n",
       "      <th>3</th>\n",
       "      <td>알리 배송</td>\n",
       "      <td>https://kin.naver.com/qna/detail.naver?d1id=5&amp;...</td>\n",
       "    </tr>\n",
       "    <tr>\n",
       "      <th>4</th>\n",
       "      <td>위챗,알리 페이 한국에서 송금 받을때</td>\n",
       "      <td>https://kin.naver.com/qna/detail.naver?d1id=9&amp;...</td>\n",
       "    </tr>\n",
       "    <tr>\n",
       "      <th>...</th>\n",
       "      <td>...</td>\n",
       "      <td>...</td>\n",
       "    </tr>\n",
       "    <tr>\n",
       "      <th>2995</th>\n",
       "      <td>테무 신규 궁금 한점 (내공 30</td>\n",
       "      <td>https://kin.naver.com/qna/detail.naver?d1id=1&amp;...</td>\n",
       "    </tr>\n",
       "    <tr>\n",
       "      <th>2996</th>\n",
       "      <td>테무 배송이 언제올까요?</td>\n",
       "      <td>https://kin.naver.com/qna/detail.naver?d1id=8&amp;...</td>\n",
       "    </tr>\n",
       "    <tr>\n",
       "      <th>2997</th>\n",
       "      <td>테무 목적항 도착.. 언제올까요 ? ㅠ</td>\n",
       "      <td>https://kin.naver.com/qna/detail.naver?d1id=8&amp;...</td>\n",
       "    </tr>\n",
       "    <tr>\n",
       "      <th>2998</th>\n",
       "      <td>테무 배송 조회</td>\n",
       "      <td>https://kin.naver.com/qna/detail.naver?d1id=8&amp;...</td>\n",
       "    </tr>\n",
       "    <tr>\n",
       "      <th>2999</th>\n",
       "      <td>테무 배송 언제어나요??</td>\n",
       "      <td>https://kin.naver.com/qna/detail.naver?d1id=8&amp;...</td>\n",
       "    </tr>\n",
       "  </tbody>\n",
       "</table>\n",
       "<p>3000 rows × 2 columns</p>\n",
       "</div>"
      ],
      "text/plain": [
       "                         제목                                                 링크\n",
       "0                알리익스프레스 배송  https://kin.naver.com/qna/detail.naver?d1id=8&...\n",
       "1             알리직구 요산측정기 환산  https://kin.naver.com/qna/detail.naver?d1id=7&...\n",
       "2                   알리 배송조회  https://kin.naver.com/qna/detail.naver?d1id=8&...\n",
       "3                     알리 배송  https://kin.naver.com/qna/detail.naver?d1id=5&...\n",
       "4      위챗,알리 페이 한국에서 송금 받을때  https://kin.naver.com/qna/detail.naver?d1id=9&...\n",
       "...                     ...                                                ...\n",
       "2995     테무 신규 궁금 한점 (내공 30  https://kin.naver.com/qna/detail.naver?d1id=1&...\n",
       "2996          테무 배송이 언제올까요?  https://kin.naver.com/qna/detail.naver?d1id=8&...\n",
       "2997  테무 목적항 도착.. 언제올까요 ? ㅠ  https://kin.naver.com/qna/detail.naver?d1id=8&...\n",
       "2998               테무 배송 조회  https://kin.naver.com/qna/detail.naver?d1id=8&...\n",
       "2999          테무 배송 언제어나요??  https://kin.naver.com/qna/detail.naver?d1id=8&...\n",
       "\n",
       "[3000 rows x 2 columns]"
      ]
     },
     "execution_count": 20,
     "metadata": {},
     "output_type": "execute_result"
    }
   ],
   "source": [
    "dfCsv"
   ]
  },
  {
   "cell_type": "code",
   "execution_count": null,
   "id": "3fbf537f-a700-4c7a-8fe0-db4f6aed18ab",
   "metadata": {},
   "outputs": [],
   "source": []
  },
  {
   "cell_type": "code",
   "execution_count": null,
   "id": "d06dac59-ecaf-49c2-9eb6-508282d9d5d0",
   "metadata": {},
   "outputs": [],
   "source": []
  },
  {
   "cell_type": "code",
   "execution_count": null,
   "id": "8c5cb9e3-7af3-4c57-8294-77ab5c1aa09b",
   "metadata": {},
   "outputs": [],
   "source": []
  },
  {
   "cell_type": "code",
   "execution_count": null,
   "id": "9b1bdd85-632a-4ff5-b938-569e81a03886",
   "metadata": {},
   "outputs": [],
   "source": []
  },
  {
   "cell_type": "code",
   "execution_count": null,
   "id": "bbbfc50e-ecc4-4bc1-a2e5-a01d21c5563c",
   "metadata": {},
   "outputs": [],
   "source": []
  },
  {
   "cell_type": "code",
   "execution_count": null,
   "id": "9f6c68a7-0827-414f-8f36-bde387ab4f0e",
   "metadata": {},
   "outputs": [],
   "source": []
  },
  {
   "cell_type": "code",
   "execution_count": null,
   "id": "82f95443-7a91-4b69-bbc9-e79d8931a3bc",
   "metadata": {},
   "outputs": [],
   "source": []
  },
  {
   "cell_type": "code",
   "execution_count": null,
   "id": "3ba78120-c94b-4353-95fb-3823cbe5d9b0",
   "metadata": {},
   "outputs": [],
   "source": []
  },
  {
   "cell_type": "code",
   "execution_count": null,
   "id": "3a9c90a0-b718-46c5-84a7-ef3111df0789",
   "metadata": {},
   "outputs": [],
   "source": []
  },
  {
   "cell_type": "code",
   "execution_count": null,
   "id": "2634733b-06bb-4728-86b2-06927b47058f",
   "metadata": {},
   "outputs": [],
   "source": []
  },
  {
   "cell_type": "code",
   "execution_count": null,
   "id": "aa05a1e2-01d6-4792-8e39-c657dad15e10",
   "metadata": {},
   "outputs": [],
   "source": []
  },
  {
   "cell_type": "code",
   "execution_count": null,
   "id": "545ed5ba-da39-48cf-925e-25ab7542fd79",
   "metadata": {},
   "outputs": [],
   "source": []
  },
  {
   "cell_type": "code",
   "execution_count": null,
   "id": "c726c22a-db3f-4c4a-b7ef-6d5e778d9ae2",
   "metadata": {},
   "outputs": [],
   "source": []
  },
  {
   "cell_type": "code",
   "execution_count": null,
   "id": "90b73e10-3a6d-4b46-9052-5e93d0a0ed79",
   "metadata": {},
   "outputs": [],
   "source": []
  },
  {
   "cell_type": "code",
   "execution_count": null,
   "id": "ee0b8ae1-edaa-4286-b35e-19b9af472e7e",
   "metadata": {},
   "outputs": [],
   "source": []
  },
  {
   "cell_type": "code",
   "execution_count": null,
   "id": "165200a3-4821-40d8-a241-4484ad671a7d",
   "metadata": {},
   "outputs": [],
   "source": []
  },
  {
   "cell_type": "code",
   "execution_count": null,
   "id": "521e24b9-f265-4318-a4ec-8a48abc30247",
   "metadata": {},
   "outputs": [],
   "source": []
  }
 ],
 "metadata": {
  "kernelspec": {
   "display_name": "Python 3 (ipykernel)",
   "language": "python",
   "name": "python3"
  },
  "language_info": {
   "codemirror_mode": {
    "name": "ipython",
    "version": 3
   },
   "file_extension": ".py",
   "mimetype": "text/x-python",
   "name": "python",
   "nbconvert_exporter": "python",
   "pygments_lexer": "ipython3",
   "version": "3.10.14"
  }
 },
 "nbformat": 4,
 "nbformat_minor": 5
}
