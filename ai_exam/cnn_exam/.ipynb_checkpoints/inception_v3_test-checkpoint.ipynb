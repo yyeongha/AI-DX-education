{
 "cells": [
  {
   "cell_type": "code",
   "execution_count": 2,
   "id": "2e47b7e1-621c-4ae7-a0eb-6a3db04ea656",
   "metadata": {
    "scrolled": true
   },
   "outputs": [
    {
     "name": "stdout",
     "output_type": "stream",
     "text": [
      "Collecting keras\n",
      "  Downloading keras-3.3.3-py3-none-any.whl.metadata (5.7 kB)\n",
      "Collecting absl-py (from keras)\n",
      "  Using cached absl_py-2.1.0-py3-none-any.whl.metadata (2.3 kB)\n",
      "Collecting numpy (from keras)\n",
      "  Downloading numpy-1.26.4-cp310-cp310-win_amd64.whl.metadata (61 kB)\n",
      "     ---------------------------------------- 0.0/61.0 kB ? eta -:--:--\n",
      "     ---------------------------------------- 61.0/61.0 kB 3.2 MB/s eta 0:00:00\n",
      "Collecting rich (from keras)\n",
      "  Downloading rich-13.7.1-py3-none-any.whl.metadata (18 kB)\n",
      "Collecting namex (from keras)\n",
      "  Downloading namex-0.0.8-py3-none-any.whl.metadata (246 bytes)\n",
      "Collecting h5py (from keras)\n",
      "  Downloading h5py-3.11.0-cp310-cp310-win_amd64.whl.metadata (2.5 kB)\n",
      "Collecting optree (from keras)\n",
      "  Downloading optree-0.11.0-cp310-cp310-win_amd64.whl.metadata (46 kB)\n",
      "     ---------------------------------------- 0.0/46.2 kB ? eta -:--:--\n",
      "     ---------------------------------------- 46.2/46.2 kB 2.2 MB/s eta 0:00:00\n",
      "Collecting ml-dtypes (from keras)\n",
      "  Downloading ml_dtypes-0.4.0-cp310-cp310-win_amd64.whl.metadata (20 kB)\n",
      "Collecting typing-extensions>=4.0.0 (from optree->keras)\n",
      "  Using cached typing_extensions-4.11.0-py3-none-any.whl.metadata (3.0 kB)\n",
      "Collecting markdown-it-py>=2.2.0 (from rich->keras)\n",
      "  Downloading markdown_it_py-3.0.0-py3-none-any.whl.metadata (6.9 kB)\n",
      "Collecting pygments<3.0.0,>=2.13.0 (from rich->keras)\n",
      "  Downloading pygments-2.18.0-py3-none-any.whl.metadata (2.5 kB)\n",
      "Collecting mdurl~=0.1 (from markdown-it-py>=2.2.0->rich->keras)\n",
      "  Downloading mdurl-0.1.2-py3-none-any.whl.metadata (1.6 kB)\n",
      "Downloading keras-3.3.3-py3-none-any.whl (1.1 MB)\n",
      "   ---------------------------------------- 0.0/1.1 MB ? eta -:--:--\n",
      "   --------------------------- ------------ 0.8/1.1 MB 47.4 MB/s eta 0:00:01\n",
      "   ---------------------------------------- 1.1/1.1 MB 17.5 MB/s eta 0:00:00\n",
      "Using cached absl_py-2.1.0-py3-none-any.whl (133 kB)\n",
      "Downloading h5py-3.11.0-cp310-cp310-win_amd64.whl (3.0 MB)\n",
      "   ---------------------------------------- 0.0/3.0 MB ? eta -:--:--\n",
      "   ----------------- ---------------------- 1.3/3.0 MB 26.8 MB/s eta 0:00:01\n",
      "   ----------------------------- ---------- 2.2/3.0 MB 23.0 MB/s eta 0:00:01\n",
      "   ---------------------------------------  3.0/3.0 MB 23.6 MB/s eta 0:00:01\n",
      "   ---------------------------------------- 3.0/3.0 MB 17.2 MB/s eta 0:00:00\n",
      "Downloading numpy-1.26.4-cp310-cp310-win_amd64.whl (15.8 MB)\n",
      "   ---------------------------------------- 0.0/15.8 MB ? eta -:--:--\n",
      "   -- ------------------------------------- 1.0/15.8 MB 21.4 MB/s eta 0:00:01\n",
      "   ----- ---------------------------------- 2.2/15.8 MB 23.6 MB/s eta 0:00:01\n",
      "   -------- ------------------------------- 3.4/15.8 MB 24.3 MB/s eta 0:00:01\n",
      "   ------------ --------------------------- 4.8/15.8 MB 23.4 MB/s eta 0:00:01\n",
      "   --------------- ------------------------ 6.1/15.8 MB 24.5 MB/s eta 0:00:01\n",
      "   ------------------ --------------------- 7.2/15.8 MB 24.2 MB/s eta 0:00:01\n",
      "   --------------------- ------------------ 8.5/15.8 MB 24.8 MB/s eta 0:00:01\n",
      "   ------------------------ --------------- 9.7/15.8 MB 24.9 MB/s eta 0:00:01\n",
      "   ---------------------------- ----------- 11.2/15.8 MB 26.2 MB/s eta 0:00:01\n",
      "   ------------------------------- -------- 12.4/15.8 MB 26.2 MB/s eta 0:00:01\n",
      "   ---------------------------------- ----- 13.8/15.8 MB 26.2 MB/s eta 0:00:01\n",
      "   -------------------------------------- - 15.0/15.8 MB 26.2 MB/s eta 0:00:01\n",
      "   ---------------------------------------  15.8/15.8 MB 26.2 MB/s eta 0:00:01\n",
      "   ---------------------------------------  15.8/15.8 MB 26.2 MB/s eta 0:00:01\n",
      "   ---------------------------------------- 15.8/15.8 MB 21.1 MB/s eta 0:00:00\n",
      "Downloading ml_dtypes-0.4.0-cp310-cp310-win_amd64.whl (126 kB)\n",
      "   ---------------------------------------- 0.0/126.6 kB ? eta -:--:--\n",
      "   ---------------------------------------- 126.6/126.6 kB 3.8 MB/s eta 0:00:00\n",
      "Downloading namex-0.0.8-py3-none-any.whl (5.8 kB)\n",
      "Downloading optree-0.11.0-cp310-cp310-win_amd64.whl (243 kB)\n",
      "   ---------------------------------------- 0.0/243.8 kB ? eta -:--:--\n",
      "   ---------------------------------------- 243.8/243.8 kB 7.5 MB/s eta 0:00:00\n",
      "Downloading rich-13.7.1-py3-none-any.whl (240 kB)\n",
      "   ---------------------------------------- 0.0/240.7 kB ? eta -:--:--\n",
      "   ---------------------------------------- 240.7/240.7 kB 4.9 MB/s eta 0:00:00\n",
      "Downloading markdown_it_py-3.0.0-py3-none-any.whl (87 kB)\n",
      "   ---------------------------------------- 0.0/87.5 kB ? eta -:--:--\n",
      "   ---------------------------------------- 87.5/87.5 kB 4.8 MB/s eta 0:00:00\n",
      "Downloading pygments-2.18.0-py3-none-any.whl (1.2 MB)\n",
      "   ---------------------------------------- 0.0/1.2 MB ? eta -:--:--\n",
      "   ------------------------------------ --- 1.1/1.2 MB 35.3 MB/s eta 0:00:01\n",
      "   ---------------------------------------- 1.2/1.2 MB 15.3 MB/s eta 0:00:00\n",
      "Using cached typing_extensions-4.11.0-py3-none-any.whl (34 kB)\n",
      "Downloading mdurl-0.1.2-py3-none-any.whl (10.0 kB)\n",
      "Installing collected packages: namex, typing-extensions, pygments, numpy, mdurl, absl-py, optree, ml-dtypes, markdown-it-py, h5py, rich, keras\n",
      "Successfully installed absl-py-2.1.0 h5py-3.11.0 keras-3.3.3 markdown-it-py-3.0.0 mdurl-0.1.2 ml-dtypes-0.4.0 namex-0.0.8 numpy-1.26.4 optree-0.11.0 pygments-2.18.0 rich-13.7.1 typing-extensions-4.11.0\n"
     ]
    }
   ],
   "source": [
    "!pip install keras"
   ]
  },
  {
   "cell_type": "code",
   "execution_count": 5,
   "id": "edc91e99-3c36-4a25-a505-83041e31fa41",
   "metadata": {},
   "outputs": [
    {
     "ename": "ModuleNotFoundError",
     "evalue": "No module named 'keras'",
     "output_type": "error",
     "traceback": [
      "\u001b[1;31m---------------------------------------------------------------------------\u001b[0m",
      "\u001b[1;31mModuleNotFoundError\u001b[0m                       Traceback (most recent call last)",
      "Cell \u001b[1;32mIn[5], line 2\u001b[0m\n\u001b[0;32m      1\u001b[0m \u001b[38;5;66;03m# 인공지능 라이브러리 불러오기\u001b[39;00m\n\u001b[1;32m----> 2\u001b[0m \u001b[38;5;28;01mfrom\u001b[39;00m \u001b[38;5;21;01mkeras\u001b[39;00m\u001b[38;5;21;01m.\u001b[39;00m\u001b[38;5;21;01mapplications\u001b[39;00m\u001b[38;5;21;01m.\u001b[39;00m\u001b[38;5;21;01minception_v3\u001b[39;00m \u001b[38;5;28;01mimport\u001b[39;00m \u001b[38;5;241m*\u001b[39m\n",
      "\u001b[1;31mModuleNotFoundError\u001b[0m: No module named 'keras'"
     ]
    }
   ],
   "source": [
    "# 인공지능 라이브러리 불러오기\n",
    "from keras.applications.inception_v3 import *"
   ]
  },
  {
   "cell_type": "code",
   "execution_count": null,
   "id": "b23c4fdf-b521-4af1-b36b-acff70e02d3b",
   "metadata": {},
   "outputs": [],
   "source": [
    "# 추가 라이브러리 불러오기\n",
    "import keras.utils as image\n",
    "import numpy as np\n",
    "import matplotlib.pyplot as plt"
   ]
  },
  {
   "cell_type": "code",
   "execution_count": null,
   "id": "eaab083a-4fe9-4def-8353-419b04795fe5",
   "metadata": {},
   "outputs": [],
   "source": [
    "# 이미 학습된 모델 : 프리트리엔드(pre-trained) 불러오기\n",
    "model = InceptionV3(weights='imagenet', include_top=True)"
   ]
  },
  {
   "cell_type": "code",
   "execution_count": null,
   "id": "332ea3df-2208-4453-83e0-a45e28c84115",
   "metadata": {},
   "outputs": [],
   "source": [
    "# 모델 정보\n",
    "model.summary()"
   ]
  },
  {
   "cell_type": "code",
   "execution_count": null,
   "id": "69211bae-5e0e-4e4b-b9d6-fb8ca335158b",
   "metadata": {},
   "outputs": [],
   "source": [
    "# 성능 테스트\n",
    "for i in range(1, 4):\n",
    "    img_path = f'./test_img/cat{i}.jpg'\n",
    "    img = image.load_img(img_path, target_size=(299, 299))\n",
    "    # 입력 형식에 맞게 수정\n",
    "    x = image.img_to_array(img)\n",
    "    x = np.expand_dims(x, axis = 0)\n",
    "    x = preprocess_input(x)\n",
    "\n",
    "    # 예측\n",
    "    pre_rst = model.predict(x)\n",
    "    rst = decode_predictions(pre_rst, top = 5)\n",
    "    print(rst)\n",
    "\n",
    "    # 이미지 표시\n",
    "    plt.imshow(image.load_img(img_path))\n",
    "    plt.show()\n",
    "\n",
    "    # 어떤것을 검출했는지 확인\n",
    "    for ii in range(5):\n",
    "        print(\"Top[{}] => {}, {}\".format(\n",
    "            ii+1,\n",
    "            rst[0][ii][1],\n",
    "            rst[0][ii][2],\n",
    "        ))"
   ]
  },
  {
   "cell_type": "code",
   "execution_count": null,
   "id": "2d3fba0a-13c8-49d7-a284-55781305f127",
   "metadata": {},
   "outputs": [],
   "source": [
    "arr = np"
   ]
  },
  {
   "cell_type": "code",
   "execution_count": null,
   "id": "e0f0fa0c-21bd-4ff9-a7ce-a5f068f09c46",
   "metadata": {},
   "outputs": [],
   "source": []
  },
  {
   "cell_type": "code",
   "execution_count": null,
   "id": "d1020a40-3c5f-487d-b1ba-66c78974dd8f",
   "metadata": {},
   "outputs": [],
   "source": []
  },
  {
   "cell_type": "code",
   "execution_count": null,
   "id": "1b707e92-914c-4a80-b67e-d273750b56da",
   "metadata": {},
   "outputs": [],
   "source": []
  },
  {
   "cell_type": "code",
   "execution_count": null,
   "id": "ff2956b4-ad89-4647-abba-e95d1c8a9f11",
   "metadata": {},
   "outputs": [],
   "source": []
  },
  {
   "cell_type": "code",
   "execution_count": null,
   "id": "b8286a2a-6c45-457f-b115-492cc252a51f",
   "metadata": {},
   "outputs": [],
   "source": []
  },
  {
   "cell_type": "code",
   "execution_count": null,
   "id": "f4d12117-182f-4980-b8d4-ca9c933ca6e7",
   "metadata": {},
   "outputs": [],
   "source": []
  },
  {
   "cell_type": "code",
   "execution_count": null,
   "id": "700e1c10-13e0-48d2-bfc2-34c2b042a57b",
   "metadata": {},
   "outputs": [],
   "source": []
  },
  {
   "cell_type": "code",
   "execution_count": null,
   "id": "f055c4fb-a1a7-41d6-9ff5-97de9306e139",
   "metadata": {},
   "outputs": [],
   "source": []
  },
  {
   "cell_type": "code",
   "execution_count": null,
   "id": "d2a940fb-b425-45b8-88cb-ffa97b94b436",
   "metadata": {},
   "outputs": [],
   "source": []
  },
  {
   "cell_type": "code",
   "execution_count": null,
   "id": "8767913c-777d-4505-8ad7-4b35b96b5259",
   "metadata": {},
   "outputs": [],
   "source": []
  },
  {
   "cell_type": "code",
   "execution_count": null,
   "id": "2bf3f137-e310-4bb0-85ae-0eca626318a8",
   "metadata": {},
   "outputs": [],
   "source": []
  },
  {
   "cell_type": "code",
   "execution_count": null,
   "id": "ad8b3740-244c-48bf-ad62-39eee2a7cd05",
   "metadata": {},
   "outputs": [],
   "source": []
  },
  {
   "cell_type": "code",
   "execution_count": null,
   "id": "dbfafc0e-7ed0-4a7a-87ad-787eca74fb91",
   "metadata": {},
   "outputs": [],
   "source": []
  },
  {
   "cell_type": "code",
   "execution_count": null,
   "id": "f36e8139-c7bc-4b8a-9aca-cf803549c117",
   "metadata": {},
   "outputs": [],
   "source": []
  },
  {
   "cell_type": "code",
   "execution_count": null,
   "id": "8beb7820-27e4-4ea8-a7ff-535cd59ac771",
   "metadata": {},
   "outputs": [],
   "source": []
  },
  {
   "cell_type": "code",
   "execution_count": null,
   "id": "21a495f1-7475-4e6a-8b5b-01cff4958ef7",
   "metadata": {},
   "outputs": [],
   "source": []
  },
  {
   "cell_type": "code",
   "execution_count": null,
   "id": "b3f1e339-4bda-4026-903b-3c1d751ade8f",
   "metadata": {},
   "outputs": [],
   "source": []
  },
  {
   "cell_type": "code",
   "execution_count": null,
   "id": "30c7bab6-d948-456d-b05f-843f16d42a8a",
   "metadata": {},
   "outputs": [],
   "source": []
  },
  {
   "cell_type": "code",
   "execution_count": null,
   "id": "87bf05bb-1230-4650-9bcd-d1717d5e7f14",
   "metadata": {},
   "outputs": [],
   "source": []
  },
  {
   "cell_type": "code",
   "execution_count": null,
   "id": "ce236499-4073-45b4-95a2-a393d43e73a1",
   "metadata": {},
   "outputs": [],
   "source": []
  },
  {
   "cell_type": "code",
   "execution_count": null,
   "id": "77b0777e-b264-4681-9033-e2e7a235fe1f",
   "metadata": {},
   "outputs": [],
   "source": []
  },
  {
   "cell_type": "code",
   "execution_count": null,
   "id": "aaf921e6-75a3-4120-a777-a391a54e066b",
   "metadata": {},
   "outputs": [],
   "source": []
  },
  {
   "cell_type": "code",
   "execution_count": null,
   "id": "b1656b20-59b3-49c4-a925-653ff8ba8bcd",
   "metadata": {},
   "outputs": [],
   "source": []
  },
  {
   "cell_type": "code",
   "execution_count": null,
   "id": "d93616ed-b976-45af-9f02-e16e804a7942",
   "metadata": {},
   "outputs": [],
   "source": []
  },
  {
   "cell_type": "code",
   "execution_count": null,
   "id": "760100ec-b272-4b54-bce6-121a4e5e7846",
   "metadata": {},
   "outputs": [],
   "source": []
  },
  {
   "cell_type": "code",
   "execution_count": null,
   "id": "cdc2e713-105b-4d6a-a94a-0840e34f2f1a",
   "metadata": {},
   "outputs": [],
   "source": []
  },
  {
   "cell_type": "code",
   "execution_count": null,
   "id": "9d2fb4ed-1e5d-4bb7-8003-80c461efc46a",
   "metadata": {},
   "outputs": [],
   "source": []
  },
  {
   "cell_type": "code",
   "execution_count": null,
   "id": "31ed57cd-ad53-4605-88e2-def94b330486",
   "metadata": {},
   "outputs": [],
   "source": []
  },
  {
   "cell_type": "code",
   "execution_count": null,
   "id": "ed61db14-8216-4e18-8624-194b06d44754",
   "metadata": {},
   "outputs": [],
   "source": []
  },
  {
   "cell_type": "code",
   "execution_count": null,
   "id": "a4e8feb2-0f18-464b-8c74-9657341a8261",
   "metadata": {},
   "outputs": [],
   "source": []
  },
  {
   "cell_type": "code",
   "execution_count": null,
   "id": "0f811fb2-bb37-4659-b6d5-957a810d4087",
   "metadata": {},
   "outputs": [],
   "source": []
  },
  {
   "cell_type": "code",
   "execution_count": null,
   "id": "c89b8e38-8eb3-418f-81a0-4cdb3f641aa0",
   "metadata": {},
   "outputs": [],
   "source": []
  }
 ],
 "metadata": {
  "kernelspec": {
   "display_name": "Python 3 (ipykernel)",
   "language": "python",
   "name": "python3"
  },
  "language_info": {
   "codemirror_mode": {
    "name": "ipython",
    "version": 3
   },
   "file_extension": ".py",
   "mimetype": "text/x-python",
   "name": "python",
   "nbconvert_exporter": "python",
   "pygments_lexer": "ipython3",
   "version": "3.11.7"
  }
 },
 "nbformat": 4,
 "nbformat_minor": 5
}
