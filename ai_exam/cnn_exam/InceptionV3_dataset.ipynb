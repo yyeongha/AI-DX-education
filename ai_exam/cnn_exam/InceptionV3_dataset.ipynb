{
 "cells": [
  {
   "cell_type": "markdown",
   "id": "6b40f08e-c604-464a-b271-f4e228e8e294",
   "metadata": {},
   "source": [
    "# 11만개 데이터 분류 작업 처리 "
   ]
  },
  {
   "cell_type": "code",
   "execution_count": 1,
   "id": "e8510bb5-1825-47e2-a2f5-51e63d175ec1",
   "metadata": {},
   "outputs": [],
   "source": [
    "# 판다스 사용\n",
    "import os \n",
    "import pandas as pd\n",
    "import shutil"
   ]
  },
  {
   "cell_type": "code",
   "execution_count": 2,
   "id": "a045b80a-8ee4-40c1-8023-b27d36112cd8",
   "metadata": {},
   "outputs": [],
   "source": [
    "# 데이터 불러오기\n",
    "df_class = pd.read_csv(\"D:/kaggle/AI-DX-dataset/Inception_v3/class_list.txt\", sep = ' ', header = None)"
   ]
  },
  {
   "cell_type": "code",
   "execution_count": 3,
   "id": "96e79df0-665f-4a18-a178-c556115b8618",
   "metadata": {},
   "outputs": [
    {
     "data": {
      "text/html": [
       "<div>\n",
       "<style scoped>\n",
       "    .dataframe tbody tr th:only-of-type {\n",
       "        vertical-align: middle;\n",
       "    }\n",
       "\n",
       "    .dataframe tbody tr th {\n",
       "        vertical-align: top;\n",
       "    }\n",
       "\n",
       "    .dataframe thead th {\n",
       "        text-align: right;\n",
       "    }\n",
       "</style>\n",
       "<table border=\"1\" class=\"dataframe\">\n",
       "  <thead>\n",
       "    <tr style=\"text-align: right;\">\n",
       "      <th></th>\n",
       "      <th>0</th>\n",
       "      <th>1</th>\n",
       "    </tr>\n",
       "  </thead>\n",
       "  <tbody>\n",
       "    <tr>\n",
       "      <th>0</th>\n",
       "      <td>0</td>\n",
       "      <td>macaron</td>\n",
       "    </tr>\n",
       "    <tr>\n",
       "      <th>1</th>\n",
       "      <td>1</td>\n",
       "      <td>beignet</td>\n",
       "    </tr>\n",
       "    <tr>\n",
       "      <th>2</th>\n",
       "      <td>2</td>\n",
       "      <td>cruller</td>\n",
       "    </tr>\n",
       "    <tr>\n",
       "      <th>3</th>\n",
       "      <td>3</td>\n",
       "      <td>cockle_food</td>\n",
       "    </tr>\n",
       "    <tr>\n",
       "      <th>4</th>\n",
       "      <td>4</td>\n",
       "      <td>samosa</td>\n",
       "    </tr>\n",
       "    <tr>\n",
       "      <th>...</th>\n",
       "      <td>...</td>\n",
       "      <td>...</td>\n",
       "    </tr>\n",
       "    <tr>\n",
       "      <th>246</th>\n",
       "      <td>246</td>\n",
       "      <td>chicken_cordon_bleu</td>\n",
       "    </tr>\n",
       "    <tr>\n",
       "      <th>247</th>\n",
       "      <td>247</td>\n",
       "      <td>eccles_cake</td>\n",
       "    </tr>\n",
       "    <tr>\n",
       "      <th>248</th>\n",
       "      <td>248</td>\n",
       "      <td>moo_goo_gai_pan</td>\n",
       "    </tr>\n",
       "    <tr>\n",
       "      <th>249</th>\n",
       "      <td>249</td>\n",
       "      <td>buffalo_wing</td>\n",
       "    </tr>\n",
       "    <tr>\n",
       "      <th>250</th>\n",
       "      <td>250</td>\n",
       "      <td>stuffed_tomato</td>\n",
       "    </tr>\n",
       "  </tbody>\n",
       "</table>\n",
       "<p>251 rows × 2 columns</p>\n",
       "</div>"
      ],
      "text/plain": [
       "       0                    1\n",
       "0      0              macaron\n",
       "1      1              beignet\n",
       "2      2              cruller\n",
       "3      3          cockle_food\n",
       "4      4               samosa\n",
       "..   ...                  ...\n",
       "246  246  chicken_cordon_bleu\n",
       "247  247          eccles_cake\n",
       "248  248      moo_goo_gai_pan\n",
       "249  249         buffalo_wing\n",
       "250  250       stuffed_tomato\n",
       "\n",
       "[251 rows x 2 columns]"
      ]
     },
     "execution_count": 3,
     "metadata": {},
     "output_type": "execute_result"
    }
   ],
   "source": [
    "df_class"
   ]
  },
  {
   "cell_type": "code",
   "execution_count": 4,
   "id": "079e06b9-8fee-4fd9-a204-7e65de36192c",
   "metadata": {},
   "outputs": [],
   "source": [
    "# 디렉토리를 자동 생성하는 함수\n",
    "def createFolder(dir):\n",
    "    try:\n",
    "        if not os.path.exists(dir): # 경로에 디렉토리가 없다면\n",
    "            os.makedirs(dir) \n",
    "    except: # 디렉토리가 있다면\n",
    "        print(\"에러: 디렉토리를 생성할 수 없습니다.\")\n",
    "        exit()"
   ]
  },
  {
   "cell_type": "code",
   "execution_count": 5,
   "id": "b1e23fec-a05b-4a1e-b8e8-55d64fbde13b",
   "metadata": {},
   "outputs": [
    {
     "data": {
      "text/plain": [
       "0                  macaron\n",
       "1                  beignet\n",
       "2                  cruller\n",
       "3              cockle_food\n",
       "4                   samosa\n",
       "              ...         \n",
       "246    chicken_cordon_bleu\n",
       "247            eccles_cake\n",
       "248        moo_goo_gai_pan\n",
       "249           buffalo_wing\n",
       "250         stuffed_tomato\n",
       "Name: 1, Length: 251, dtype: object"
      ]
     },
     "execution_count": 5,
     "metadata": {},
     "output_type": "execute_result"
    }
   ],
   "source": [
    "df_class[1]"
   ]
  },
  {
   "cell_type": "code",
   "execution_count": 6,
   "id": "140a3750-d21a-49e8-9127-eb3d33969865",
   "metadata": {},
   "outputs": [],
   "source": [
    "# 디렉토리 생성\n",
    "for i in range(len(df_class)):\n",
    "    name = df_class[1][i]\n",
    "    # print(name)\n",
    "    createFolder(f'D:/kaggle/AI-DX-dataset/Inception_v3/food/train/{name}')"
   ]
  },
  {
   "cell_type": "markdown",
   "id": "e18fe6b7-7295-432b-a4bb-399e4e0563dc",
   "metadata": {},
   "source": [
    "# 파일복사"
   ]
  },
  {
   "cell_type": "code",
   "execution_count": 7,
   "id": "61f5b5d0-04b0-4f2e-9c60-8992dc881050",
   "metadata": {},
   "outputs": [
    {
     "data": {
      "text/html": [
       "<div>\n",
       "<style scoped>\n",
       "    .dataframe tbody tr th:only-of-type {\n",
       "        vertical-align: middle;\n",
       "    }\n",
       "\n",
       "    .dataframe tbody tr th {\n",
       "        vertical-align: top;\n",
       "    }\n",
       "\n",
       "    .dataframe thead th {\n",
       "        text-align: right;\n",
       "    }\n",
       "</style>\n",
       "<table border=\"1\" class=\"dataframe\">\n",
       "  <thead>\n",
       "    <tr style=\"text-align: right;\">\n",
       "      <th></th>\n",
       "      <th>img_name</th>\n",
       "      <th>label</th>\n",
       "    </tr>\n",
       "  </thead>\n",
       "  <tbody>\n",
       "    <tr>\n",
       "      <th>0</th>\n",
       "      <td>train_101733.jpg</td>\n",
       "      <td>211</td>\n",
       "    </tr>\n",
       "    <tr>\n",
       "      <th>1</th>\n",
       "      <td>train_101734.jpg</td>\n",
       "      <td>211</td>\n",
       "    </tr>\n",
       "    <tr>\n",
       "      <th>2</th>\n",
       "      <td>train_101735.jpg</td>\n",
       "      <td>211</td>\n",
       "    </tr>\n",
       "    <tr>\n",
       "      <th>3</th>\n",
       "      <td>train_101736.jpg</td>\n",
       "      <td>211</td>\n",
       "    </tr>\n",
       "    <tr>\n",
       "      <th>4</th>\n",
       "      <td>train_101737.jpg</td>\n",
       "      <td>211</td>\n",
       "    </tr>\n",
       "    <tr>\n",
       "      <th>...</th>\n",
       "      <td>...</td>\n",
       "      <td>...</td>\n",
       "    </tr>\n",
       "    <tr>\n",
       "      <th>118470</th>\n",
       "      <td>train_101728.jpg</td>\n",
       "      <td>123</td>\n",
       "    </tr>\n",
       "    <tr>\n",
       "      <th>118471</th>\n",
       "      <td>train_101729.jpg</td>\n",
       "      <td>123</td>\n",
       "    </tr>\n",
       "    <tr>\n",
       "      <th>118472</th>\n",
       "      <td>train_101730.jpg</td>\n",
       "      <td>123</td>\n",
       "    </tr>\n",
       "    <tr>\n",
       "      <th>118473</th>\n",
       "      <td>train_101731.jpg</td>\n",
       "      <td>123</td>\n",
       "    </tr>\n",
       "    <tr>\n",
       "      <th>118474</th>\n",
       "      <td>train_101732.jpg</td>\n",
       "      <td>123</td>\n",
       "    </tr>\n",
       "  </tbody>\n",
       "</table>\n",
       "<p>118475 rows × 2 columns</p>\n",
       "</div>"
      ],
      "text/plain": [
       "                img_name  label\n",
       "0       train_101733.jpg    211\n",
       "1       train_101734.jpg    211\n",
       "2       train_101735.jpg    211\n",
       "3       train_101736.jpg    211\n",
       "4       train_101737.jpg    211\n",
       "...                  ...    ...\n",
       "118470  train_101728.jpg    123\n",
       "118471  train_101729.jpg    123\n",
       "118472  train_101730.jpg    123\n",
       "118473  train_101731.jpg    123\n",
       "118474  train_101732.jpg    123\n",
       "\n",
       "[118475 rows x 2 columns]"
      ]
     },
     "execution_count": 7,
     "metadata": {},
     "output_type": "execute_result"
    }
   ],
   "source": [
    "# 파일정보가 있는 csv파일 불러오기\n",
    "df_labels = pd.read_csv('D:/kaggle/AI-DX-dataset/Inception_v3/train_labels.csv')\n",
    "df_labels"
   ]
  },
  {
   "cell_type": "code",
   "execution_count": 8,
   "id": "b632a984-bb92-4fd7-963d-1d6e3d7fe96c",
   "metadata": {},
   "outputs": [],
   "source": [
    "# 해당되는 경로에 맞는 데이터를 복사하는 작업\n",
    "# labels를 숫자를 이름을 변경할 수 있는 함수\n",
    "def label_names(idx):\n",
    "    return df_class[1][idx]"
   ]
  },
  {
   "cell_type": "code",
   "execution_count": 9,
   "id": "f3596b16-efcd-4d16-9722-1945e5977f4a",
   "metadata": {},
   "outputs": [
    {
     "data": {
      "text/plain": [
       "'samosa'"
      ]
     },
     "execution_count": 9,
     "metadata": {},
     "output_type": "execute_result"
    }
   ],
   "source": [
    "label_names(4)"
   ]
  },
  {
   "cell_type": "code",
   "execution_count": 10,
   "id": "52007072-6c7b-424e-b641-a577aba5248c",
   "metadata": {
    "scrolled": true
   },
   "outputs": [
    {
     "ename": "FileNotFoundError",
     "evalue": "[Errno 2] No such file or directory: 'D:/kaggle/AI-DX-dataset/Inception_v3/food_org/train_set/train_101733.jpg'",
     "output_type": "error",
     "traceback": [
      "\u001b[1;31m---------------------------------------------------------------------------\u001b[0m",
      "\u001b[1;31mFileNotFoundError\u001b[0m                         Traceback (most recent call last)",
      "Cell \u001b[1;32mIn[10], line 14\u001b[0m\n\u001b[0;32m     11\u001b[0m cp_name \u001b[38;5;241m=\u001b[39m \u001b[38;5;124mf\u001b[39m\u001b[38;5;124m'\u001b[39m\u001b[38;5;124mD:/kaggle/AI-DX-dataset/Inception_v3/food/train/\u001b[39m\u001b[38;5;132;01m{\u001b[39;00mdir_names\u001b[38;5;132;01m}\u001b[39;00m\u001b[38;5;124m/\u001b[39m\u001b[38;5;132;01m{\u001b[39;00mf_names\u001b[38;5;132;01m}\u001b[39;00m\u001b[38;5;124m'\u001b[39m\n\u001b[0;32m     12\u001b[0m \u001b[38;5;66;03m# print(\"org_name: \", org_name)\u001b[39;00m\n\u001b[0;32m     13\u001b[0m \u001b[38;5;66;03m# print(\"cp_name: \", cp_name)\u001b[39;00m\n\u001b[1;32m---> 14\u001b[0m shutil\u001b[38;5;241m.\u001b[39mcopy(org_name, cp_name)\n\u001b[0;32m     15\u001b[0m \u001b[38;5;28;01mif\u001b[39;00m i \u001b[38;5;241m%\u001b[39m \u001b[38;5;241m100\u001b[39m \u001b[38;5;241m==\u001b[39m \u001b[38;5;241m0\u001b[39m:\n\u001b[0;32m     16\u001b[0m     \u001b[38;5;28mprint\u001b[39m(\u001b[38;5;124mf\u001b[39m\u001b[38;5;124m\"\u001b[39m\u001b[38;5;124m[\u001b[39m\u001b[38;5;132;01m{\u001b[39;00mi\u001b[38;5;132;01m}\u001b[39;00m\u001b[38;5;124m] \u001b[39m\u001b[38;5;132;01m{\u001b[39;00morg_name\u001b[38;5;132;01m}\u001b[39;00m\u001b[38;5;124m -> \u001b[39m\u001b[38;5;132;01m{\u001b[39;00mcp_name\u001b[38;5;132;01m}\u001b[39;00m\u001b[38;5;124m\"\u001b[39m)\n",
      "File \u001b[1;32m~\\anaconda3\\Lib\\shutil.py:419\u001b[0m, in \u001b[0;36mcopy\u001b[1;34m(src, dst, follow_symlinks)\u001b[0m\n\u001b[0;32m    417\u001b[0m \u001b[38;5;28;01mif\u001b[39;00m os\u001b[38;5;241m.\u001b[39mpath\u001b[38;5;241m.\u001b[39misdir(dst):\n\u001b[0;32m    418\u001b[0m     dst \u001b[38;5;241m=\u001b[39m os\u001b[38;5;241m.\u001b[39mpath\u001b[38;5;241m.\u001b[39mjoin(dst, os\u001b[38;5;241m.\u001b[39mpath\u001b[38;5;241m.\u001b[39mbasename(src))\n\u001b[1;32m--> 419\u001b[0m copyfile(src, dst, follow_symlinks\u001b[38;5;241m=\u001b[39mfollow_symlinks)\n\u001b[0;32m    420\u001b[0m copymode(src, dst, follow_symlinks\u001b[38;5;241m=\u001b[39mfollow_symlinks)\n\u001b[0;32m    421\u001b[0m \u001b[38;5;28;01mreturn\u001b[39;00m dst\n",
      "File \u001b[1;32m~\\anaconda3\\Lib\\shutil.py:256\u001b[0m, in \u001b[0;36mcopyfile\u001b[1;34m(src, dst, follow_symlinks)\u001b[0m\n\u001b[0;32m    254\u001b[0m     os\u001b[38;5;241m.\u001b[39msymlink(os\u001b[38;5;241m.\u001b[39mreadlink(src), dst)\n\u001b[0;32m    255\u001b[0m \u001b[38;5;28;01melse\u001b[39;00m:\n\u001b[1;32m--> 256\u001b[0m     \u001b[38;5;28;01mwith\u001b[39;00m \u001b[38;5;28mopen\u001b[39m(src, \u001b[38;5;124m'\u001b[39m\u001b[38;5;124mrb\u001b[39m\u001b[38;5;124m'\u001b[39m) \u001b[38;5;28;01mas\u001b[39;00m fsrc:\n\u001b[0;32m    257\u001b[0m         \u001b[38;5;28;01mtry\u001b[39;00m:\n\u001b[0;32m    258\u001b[0m             \u001b[38;5;28;01mwith\u001b[39;00m \u001b[38;5;28mopen\u001b[39m(dst, \u001b[38;5;124m'\u001b[39m\u001b[38;5;124mwb\u001b[39m\u001b[38;5;124m'\u001b[39m) \u001b[38;5;28;01mas\u001b[39;00m fdst:\n\u001b[0;32m    259\u001b[0m                 \u001b[38;5;66;03m# macOS\u001b[39;00m\n",
      "\u001b[1;31mFileNotFoundError\u001b[0m: [Errno 2] No such file or directory: 'D:/kaggle/AI-DX-dataset/Inception_v3/food_org/train_set/train_101733.jpg'"
     ]
    }
   ],
   "source": [
    "# 데이터를 자동 이전하는 프로그램\n",
    "for i in range(len(df_labels)):\n",
    "    f_names = df_labels['img_name'][i]\n",
    "    i_labels = df_labels['label'][i]\n",
    "    # print(f_names, i_labels)\n",
    "    dir_names = label_names(i_labels)\n",
    "    # print(dir_names)\n",
    "\n",
    "    # 원본파일 -> dir_names / f_names 로 옮김\n",
    "    org_name = f'D:/kaggle/AI-DX-dataset/Inception_v3/food_org/train_set/{f_names}'\n",
    "    cp_name = f'D:/kaggle/AI-DX-dataset/Inception_v3/food/train/{dir_names}/{f_names}'\n",
    "    # print(\"org_name: \", org_name)\n",
    "    # print(\"cp_name: \", cp_name)\n",
    "    shutil.copy(org_name, cp_name)\n",
    "    if i % 100 == 0:\n",
    "        print(f\"[{i}] {org_name} -> {cp_name}\")"
   ]
  },
  {
   "cell_type": "code",
   "execution_count": null,
   "id": "ed156a79-6f93-4465-ba11-370cd92c5efc",
   "metadata": {},
   "outputs": [],
   "source": []
  },
  {
   "cell_type": "code",
   "execution_count": null,
   "id": "81f1a3f5-3902-4671-986e-0de321488e01",
   "metadata": {},
   "outputs": [],
   "source": []
  },
  {
   "cell_type": "code",
   "execution_count": null,
   "id": "d66599a3-4081-4b33-8b5a-d2e38ad689b2",
   "metadata": {},
   "outputs": [],
   "source": []
  },
  {
   "cell_type": "code",
   "execution_count": null,
   "id": "efc95e32-e3ef-4390-90f2-e3ce338319c3",
   "metadata": {},
   "outputs": [],
   "source": []
  },
  {
   "cell_type": "code",
   "execution_count": null,
   "id": "1209502b-d67f-47ba-b2df-d40f4287f946",
   "metadata": {},
   "outputs": [],
   "source": []
  },
  {
   "cell_type": "code",
   "execution_count": null,
   "id": "bb111cc2-f6ae-43eb-b81f-7b9b2d0a4020",
   "metadata": {},
   "outputs": [],
   "source": []
  },
  {
   "cell_type": "code",
   "execution_count": null,
   "id": "b316cedc-cb86-46fe-975e-1b6ca31cc41b",
   "metadata": {},
   "outputs": [],
   "source": []
  },
  {
   "cell_type": "code",
   "execution_count": null,
   "id": "cc0ff8ed-e713-4c91-a47b-e9178287e895",
   "metadata": {},
   "outputs": [],
   "source": []
  },
  {
   "cell_type": "code",
   "execution_count": null,
   "id": "3e3fbeac-54b9-4dae-ab19-1adc10d8e405",
   "metadata": {},
   "outputs": [],
   "source": []
  },
  {
   "cell_type": "code",
   "execution_count": null,
   "id": "daf3dd6a-9501-4dad-bb62-08754ed04184",
   "metadata": {},
   "outputs": [],
   "source": []
  },
  {
   "cell_type": "code",
   "execution_count": null,
   "id": "89b12523-0bc1-4df5-894c-b35b4ed7a696",
   "metadata": {},
   "outputs": [],
   "source": []
  },
  {
   "cell_type": "code",
   "execution_count": null,
   "id": "adc3a8c0-33aa-4a32-ab48-6c47162703b8",
   "metadata": {},
   "outputs": [],
   "source": []
  },
  {
   "cell_type": "code",
   "execution_count": null,
   "id": "e7d259ab-c8c6-46e9-845e-249c0f1f50d8",
   "metadata": {},
   "outputs": [],
   "source": []
  },
  {
   "cell_type": "code",
   "execution_count": null,
   "id": "bdb46089-688d-4f6e-a9d7-0a85e386085a",
   "metadata": {},
   "outputs": [],
   "source": []
  },
  {
   "cell_type": "code",
   "execution_count": null,
   "id": "c64e869b-3d18-44ad-be3e-85f41203882a",
   "metadata": {},
   "outputs": [],
   "source": []
  },
  {
   "cell_type": "code",
   "execution_count": null,
   "id": "14e369a3-045e-415c-9e17-2711eb76a7ba",
   "metadata": {},
   "outputs": [],
   "source": []
  },
  {
   "cell_type": "code",
   "execution_count": null,
   "id": "1ff56790-d8f4-49c3-969d-af8c4b45182d",
   "metadata": {},
   "outputs": [],
   "source": []
  },
  {
   "cell_type": "code",
   "execution_count": null,
   "id": "17803981-8589-46cc-b60c-00a0322e41a6",
   "metadata": {},
   "outputs": [],
   "source": []
  },
  {
   "cell_type": "code",
   "execution_count": null,
   "id": "4d65aafb-263f-4d55-86d3-9fed3f939a7c",
   "metadata": {},
   "outputs": [],
   "source": []
  },
  {
   "cell_type": "code",
   "execution_count": null,
   "id": "592d0128-a949-441e-9f50-217dd91129c5",
   "metadata": {},
   "outputs": [],
   "source": []
  },
  {
   "cell_type": "code",
   "execution_count": null,
   "id": "03e4130a-43eb-429b-b1a0-06b565c2473a",
   "metadata": {},
   "outputs": [],
   "source": []
  },
  {
   "cell_type": "code",
   "execution_count": null,
   "id": "f25b47e4-615e-4910-b721-ebe58da60e4e",
   "metadata": {},
   "outputs": [],
   "source": []
  },
  {
   "cell_type": "code",
   "execution_count": null,
   "id": "35101e65-17f1-4316-9de7-4a2a54b0c375",
   "metadata": {},
   "outputs": [],
   "source": []
  },
  {
   "cell_type": "code",
   "execution_count": null,
   "id": "db8b27cc-3469-41df-84be-98edb082deeb",
   "metadata": {},
   "outputs": [],
   "source": []
  },
  {
   "cell_type": "code",
   "execution_count": null,
   "id": "3fa9e864-54ea-4b73-b771-340b68ae004e",
   "metadata": {},
   "outputs": [],
   "source": []
  },
  {
   "cell_type": "code",
   "execution_count": null,
   "id": "b5c39b4e-da66-4889-bc71-2a702c366eb4",
   "metadata": {},
   "outputs": [],
   "source": []
  },
  {
   "cell_type": "code",
   "execution_count": null,
   "id": "7f0accf0-0387-487c-82b9-88ae0b0af457",
   "metadata": {},
   "outputs": [],
   "source": []
  },
  {
   "cell_type": "code",
   "execution_count": null,
   "id": "06b63cc9-1926-4c8b-a305-cc552fb31eee",
   "metadata": {},
   "outputs": [],
   "source": []
  },
  {
   "cell_type": "code",
   "execution_count": null,
   "id": "c7b49917-1d2d-456f-8370-71f8d7b3b795",
   "metadata": {},
   "outputs": [],
   "source": []
  },
  {
   "cell_type": "code",
   "execution_count": null,
   "id": "244d5758-5647-4d6c-a30e-52b912ccdd47",
   "metadata": {},
   "outputs": [],
   "source": []
  },
  {
   "cell_type": "code",
   "execution_count": null,
   "id": "621540bc-af59-4080-9856-1d7513ee2193",
   "metadata": {},
   "outputs": [],
   "source": []
  },
  {
   "cell_type": "code",
   "execution_count": null,
   "id": "0bd11f65-e9bd-42b7-8bb1-7151210660a6",
   "metadata": {},
   "outputs": [],
   "source": []
  },
  {
   "cell_type": "code",
   "execution_count": null,
   "id": "f5c1f7d5-a700-4f25-ada3-063aba53da49",
   "metadata": {},
   "outputs": [],
   "source": []
  },
  {
   "cell_type": "code",
   "execution_count": null,
   "id": "cbdae73c-2a6d-4bb8-9666-196a74bd8b2a",
   "metadata": {},
   "outputs": [],
   "source": []
  },
  {
   "cell_type": "code",
   "execution_count": null,
   "id": "adb09f31-a90e-45bf-88b3-0b20677b8975",
   "metadata": {},
   "outputs": [],
   "source": []
  },
  {
   "cell_type": "code",
   "execution_count": null,
   "id": "fa4a3cff-2725-4249-a118-bf159f142551",
   "metadata": {},
   "outputs": [],
   "source": []
  },
  {
   "cell_type": "code",
   "execution_count": null,
   "id": "9759c226-5654-4753-a898-4a56fd3557b3",
   "metadata": {},
   "outputs": [],
   "source": []
  },
  {
   "cell_type": "code",
   "execution_count": null,
   "id": "1feb7b3b-6762-4c95-a1dd-bc9cf2b4e9d8",
   "metadata": {},
   "outputs": [],
   "source": []
  },
  {
   "cell_type": "code",
   "execution_count": null,
   "id": "f3bbfd3c-7c68-4062-b266-850ddfd5e273",
   "metadata": {},
   "outputs": [],
   "source": []
  },
  {
   "cell_type": "code",
   "execution_count": null,
   "id": "cb3b2cee-e773-4307-8b18-997538332de7",
   "metadata": {},
   "outputs": [],
   "source": []
  },
  {
   "cell_type": "code",
   "execution_count": null,
   "id": "a641bb63-402f-4478-9568-9413fcae1bcf",
   "metadata": {},
   "outputs": [],
   "source": []
  },
  {
   "cell_type": "code",
   "execution_count": null,
   "id": "606a07ab-6a7f-47f9-9061-30ad7922db92",
   "metadata": {},
   "outputs": [],
   "source": []
  },
  {
   "cell_type": "code",
   "execution_count": null,
   "id": "156a3dbd-b321-41f6-9624-55e0ffdc28b6",
   "metadata": {},
   "outputs": [],
   "source": []
  },
  {
   "cell_type": "code",
   "execution_count": null,
   "id": "387e0d04-b618-4bf2-935f-dcf772aaa53a",
   "metadata": {},
   "outputs": [],
   "source": []
  },
  {
   "cell_type": "code",
   "execution_count": null,
   "id": "c05d521b-59d2-4b6b-8460-298a0a870679",
   "metadata": {},
   "outputs": [],
   "source": []
  },
  {
   "cell_type": "code",
   "execution_count": null,
   "id": "e92b1b28-0342-4e2d-ae6a-a309acc378a7",
   "metadata": {},
   "outputs": [],
   "source": []
  },
  {
   "cell_type": "code",
   "execution_count": null,
   "id": "f2cbdc12-fa77-4ee3-b287-57d4041282f0",
   "metadata": {},
   "outputs": [],
   "source": []
  }
 ],
 "metadata": {
  "kernelspec": {
   "display_name": "Python 3 (ipykernel)",
   "language": "python",
   "name": "python3"
  },
  "language_info": {
   "codemirror_mode": {
    "name": "ipython",
    "version": 3
   },
   "file_extension": ".py",
   "mimetype": "text/x-python",
   "name": "python",
   "nbconvert_exporter": "python",
   "pygments_lexer": "ipython3",
   "version": "3.11.7"
  }
 },
 "nbformat": 4,
 "nbformat_minor": 5
}
