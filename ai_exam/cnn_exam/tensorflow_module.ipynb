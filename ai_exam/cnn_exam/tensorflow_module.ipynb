{
 "cells": [
  {
   "cell_type": "markdown",
   "id": "e1cb706c-bcd5-4493-92b6-da77cd63a81b",
   "metadata": {},
   "source": [
    "# 1. 텐서플로 버전 확인 (라이브러리들 버전 확인)"
   ]
  },
  {
   "cell_type": "code",
   "execution_count": 10,
   "id": "a95970de-8a72-4cf3-afe0-1fbd04f4628d",
   "metadata": {
    "scrolled": true
   },
   "outputs": [
    {
     "name": "stdout",
     "output_type": "stream",
     "text": [
      "Requirement already satisfied: tensorflow==2.16.1 in c:\\users\\hi\\anaconda3\\envs\\p310_cnn\\lib\\site-packages (2.16.1)\n",
      "Requirement already satisfied: tensorflow-intel==2.16.1 in c:\\users\\hi\\anaconda3\\envs\\p310_cnn\\lib\\site-packages (from tensorflow==2.16.1) (2.16.1)\n",
      "Requirement already satisfied: absl-py>=1.0.0 in c:\\users\\hi\\anaconda3\\envs\\p310_cnn\\lib\\site-packages (from tensorflow-intel==2.16.1->tensorflow==2.16.1) (2.1.0)\n",
      "Requirement already satisfied: astunparse>=1.6.0 in c:\\users\\hi\\anaconda3\\envs\\p310_cnn\\lib\\site-packages (from tensorflow-intel==2.16.1->tensorflow==2.16.1) (1.6.3)\n",
      "Requirement already satisfied: flatbuffers>=23.5.26 in c:\\users\\hi\\anaconda3\\envs\\p310_cnn\\lib\\site-packages (from tensorflow-intel==2.16.1->tensorflow==2.16.1) (24.3.25)\n",
      "Requirement already satisfied: gast!=0.5.0,!=0.5.1,!=0.5.2,>=0.2.1 in c:\\users\\hi\\anaconda3\\envs\\p310_cnn\\lib\\site-packages (from tensorflow-intel==2.16.1->tensorflow==2.16.1) (0.5.4)\n",
      "Requirement already satisfied: google-pasta>=0.1.1 in c:\\users\\hi\\anaconda3\\envs\\p310_cnn\\lib\\site-packages (from tensorflow-intel==2.16.1->tensorflow==2.16.1) (0.2.0)\n",
      "Requirement already satisfied: h5py>=3.10.0 in c:\\users\\hi\\anaconda3\\envs\\p310_cnn\\lib\\site-packages (from tensorflow-intel==2.16.1->tensorflow==2.16.1) (3.11.0)\n",
      "Requirement already satisfied: libclang>=13.0.0 in c:\\users\\hi\\anaconda3\\envs\\p310_cnn\\lib\\site-packages (from tensorflow-intel==2.16.1->tensorflow==2.16.1) (18.1.1)\n",
      "Requirement already satisfied: ml-dtypes~=0.3.1 in c:\\users\\hi\\anaconda3\\envs\\p310_cnn\\lib\\site-packages (from tensorflow-intel==2.16.1->tensorflow==2.16.1) (0.3.2)\n",
      "Requirement already satisfied: opt-einsum>=2.3.2 in c:\\users\\hi\\anaconda3\\envs\\p310_cnn\\lib\\site-packages (from tensorflow-intel==2.16.1->tensorflow==2.16.1) (3.3.0)\n",
      "Requirement already satisfied: packaging in c:\\users\\hi\\anaconda3\\envs\\p310_cnn\\lib\\site-packages (from tensorflow-intel==2.16.1->tensorflow==2.16.1) (24.0)\n",
      "Requirement already satisfied: protobuf!=4.21.0,!=4.21.1,!=4.21.2,!=4.21.3,!=4.21.4,!=4.21.5,<5.0.0dev,>=3.20.3 in c:\\users\\hi\\anaconda3\\envs\\p310_cnn\\lib\\site-packages (from tensorflow-intel==2.16.1->tensorflow==2.16.1) (4.25.3)\n",
      "Requirement already satisfied: requests<3,>=2.21.0 in c:\\users\\hi\\anaconda3\\envs\\p310_cnn\\lib\\site-packages (from tensorflow-intel==2.16.1->tensorflow==2.16.1) (2.31.0)\n",
      "Requirement already satisfied: setuptools in c:\\users\\hi\\anaconda3\\envs\\p310_cnn\\lib\\site-packages (from tensorflow-intel==2.16.1->tensorflow==2.16.1) (69.5.1)\n",
      "Requirement already satisfied: six>=1.12.0 in c:\\users\\hi\\anaconda3\\envs\\p310_cnn\\lib\\site-packages (from tensorflow-intel==2.16.1->tensorflow==2.16.1) (1.16.0)\n",
      "Requirement already satisfied: termcolor>=1.1.0 in c:\\users\\hi\\anaconda3\\envs\\p310_cnn\\lib\\site-packages (from tensorflow-intel==2.16.1->tensorflow==2.16.1) (2.4.0)\n",
      "Requirement already satisfied: typing-extensions>=3.6.6 in c:\\users\\hi\\anaconda3\\envs\\p310_cnn\\lib\\site-packages (from tensorflow-intel==2.16.1->tensorflow==2.16.1) (4.11.0)\n",
      "Requirement already satisfied: wrapt>=1.11.0 in c:\\users\\hi\\anaconda3\\envs\\p310_cnn\\lib\\site-packages (from tensorflow-intel==2.16.1->tensorflow==2.16.1) (1.16.0)\n",
      "Requirement already satisfied: grpcio<2.0,>=1.24.3 in c:\\users\\hi\\anaconda3\\envs\\p310_cnn\\lib\\site-packages (from tensorflow-intel==2.16.1->tensorflow==2.16.1) (1.63.0)\n",
      "Requirement already satisfied: tensorboard<2.17,>=2.16 in c:\\users\\hi\\anaconda3\\envs\\p310_cnn\\lib\\site-packages (from tensorflow-intel==2.16.1->tensorflow==2.16.1) (2.16.2)\n",
      "Requirement already satisfied: keras>=3.0.0 in c:\\users\\hi\\anaconda3\\envs\\p310_cnn\\lib\\site-packages (from tensorflow-intel==2.16.1->tensorflow==2.16.1) (3.3.3)\n",
      "Requirement already satisfied: tensorflow-io-gcs-filesystem>=0.23.1 in c:\\users\\hi\\anaconda3\\envs\\p310_cnn\\lib\\site-packages (from tensorflow-intel==2.16.1->tensorflow==2.16.1) (0.31.0)\n",
      "Requirement already satisfied: numpy<2.0.0,>=1.23.5 in c:\\users\\hi\\anaconda3\\envs\\p310_cnn\\lib\\site-packages (from tensorflow-intel==2.16.1->tensorflow==2.16.1) (1.26.4)\n",
      "Requirement already satisfied: wheel<1.0,>=0.23.0 in c:\\users\\hi\\anaconda3\\envs\\p310_cnn\\lib\\site-packages (from astunparse>=1.6.0->tensorflow-intel==2.16.1->tensorflow==2.16.1) (0.43.0)\n",
      "Requirement already satisfied: rich in c:\\users\\hi\\anaconda3\\envs\\p310_cnn\\lib\\site-packages (from keras>=3.0.0->tensorflow-intel==2.16.1->tensorflow==2.16.1) (13.7.1)\n",
      "Requirement already satisfied: namex in c:\\users\\hi\\anaconda3\\envs\\p310_cnn\\lib\\site-packages (from keras>=3.0.0->tensorflow-intel==2.16.1->tensorflow==2.16.1) (0.0.8)\n",
      "Requirement already satisfied: optree in c:\\users\\hi\\anaconda3\\envs\\p310_cnn\\lib\\site-packages (from keras>=3.0.0->tensorflow-intel==2.16.1->tensorflow==2.16.1) (0.11.0)\n",
      "Requirement already satisfied: charset-normalizer<4,>=2 in c:\\users\\hi\\anaconda3\\envs\\p310_cnn\\lib\\site-packages (from requests<3,>=2.21.0->tensorflow-intel==2.16.1->tensorflow==2.16.1) (3.3.2)\n",
      "Requirement already satisfied: idna<4,>=2.5 in c:\\users\\hi\\anaconda3\\envs\\p310_cnn\\lib\\site-packages (from requests<3,>=2.21.0->tensorflow-intel==2.16.1->tensorflow==2.16.1) (3.7)\n",
      "Requirement already satisfied: urllib3<3,>=1.21.1 in c:\\users\\hi\\anaconda3\\envs\\p310_cnn\\lib\\site-packages (from requests<3,>=2.21.0->tensorflow-intel==2.16.1->tensorflow==2.16.1) (2.2.1)\n",
      "Requirement already satisfied: certifi>=2017.4.17 in c:\\users\\hi\\anaconda3\\envs\\p310_cnn\\lib\\site-packages (from requests<3,>=2.21.0->tensorflow-intel==2.16.1->tensorflow==2.16.1) (2024.2.2)\n",
      "Requirement already satisfied: markdown>=2.6.8 in c:\\users\\hi\\anaconda3\\envs\\p310_cnn\\lib\\site-packages (from tensorboard<2.17,>=2.16->tensorflow-intel==2.16.1->tensorflow==2.16.1) (3.6)\n",
      "Requirement already satisfied: tensorboard-data-server<0.8.0,>=0.7.0 in c:\\users\\hi\\anaconda3\\envs\\p310_cnn\\lib\\site-packages (from tensorboard<2.17,>=2.16->tensorflow-intel==2.16.1->tensorflow==2.16.1) (0.7.2)\n",
      "Requirement already satisfied: werkzeug>=1.0.1 in c:\\users\\hi\\anaconda3\\envs\\p310_cnn\\lib\\site-packages (from tensorboard<2.17,>=2.16->tensorflow-intel==2.16.1->tensorflow==2.16.1) (3.0.3)\n",
      "Requirement already satisfied: MarkupSafe>=2.1.1 in c:\\users\\hi\\anaconda3\\envs\\p310_cnn\\lib\\site-packages (from werkzeug>=1.0.1->tensorboard<2.17,>=2.16->tensorflow-intel==2.16.1->tensorflow==2.16.1) (2.1.5)\n",
      "Requirement already satisfied: markdown-it-py>=2.2.0 in c:\\users\\hi\\anaconda3\\envs\\p310_cnn\\lib\\site-packages (from rich->keras>=3.0.0->tensorflow-intel==2.16.1->tensorflow==2.16.1) (3.0.0)\n",
      "Requirement already satisfied: pygments<3.0.0,>=2.13.0 in c:\\users\\hi\\anaconda3\\envs\\p310_cnn\\lib\\site-packages (from rich->keras>=3.0.0->tensorflow-intel==2.16.1->tensorflow==2.16.1) (2.18.0)\n",
      "Requirement already satisfied: mdurl~=0.1 in c:\\users\\hi\\anaconda3\\envs\\p310_cnn\\lib\\site-packages (from markdown-it-py>=2.2.0->rich->keras>=3.0.0->tensorflow-intel==2.16.1->tensorflow==2.16.1) (0.1.2)\n"
     ]
    },
    {
     "name": "stderr",
     "output_type": "stream",
     "text": [
      "WARNING: Ignoring invalid distribution -eras (c:\\users\\hi\\anaconda3\\envs\\p310_cnn\\lib\\site-packages)\n",
      "WARNING: Ignoring invalid distribution -eras (c:\\users\\hi\\anaconda3\\envs\\p310_cnn\\lib\\site-packages)\n"
     ]
    }
   ],
   "source": [
    "!pip install tensorflow==2.16.1"
   ]
  },
  {
   "cell_type": "code",
   "execution_count": 3,
   "id": "572d37e1-5485-4d83-926c-596bd7a1e011",
   "metadata": {
    "scrolled": true
   },
   "outputs": [
    {
     "name": "stdout",
     "output_type": "stream",
     "text": [
      "Requirement already satisfied: pandas in c:\\users\\hi\\anaconda3\\envs\\p310_cnn\\lib\\site-packages (2.2.2)\n",
      "Requirement already satisfied: numpy>=1.22.4 in c:\\users\\hi\\anaconda3\\envs\\p310_cnn\\lib\\site-packages (from pandas) (1.26.4)\n",
      "Requirement already satisfied: python-dateutil>=2.8.2 in c:\\users\\hi\\anaconda3\\envs\\p310_cnn\\lib\\site-packages (from pandas) (2.9.0.post0)\n",
      "Requirement already satisfied: pytz>=2020.1 in c:\\users\\hi\\anaconda3\\envs\\p310_cnn\\lib\\site-packages (from pandas) (2024.1)\n",
      "Requirement already satisfied: tzdata>=2022.7 in c:\\users\\hi\\anaconda3\\envs\\p310_cnn\\lib\\site-packages (from pandas) (2024.1)\n",
      "Requirement already satisfied: six>=1.5 in c:\\users\\hi\\anaconda3\\envs\\p310_cnn\\lib\\site-packages (from python-dateutil>=2.8.2->pandas) (1.16.0)\n"
     ]
    }
   ],
   "source": [
    "!pip install pandas"
   ]
  },
  {
   "cell_type": "code",
   "execution_count": 9,
   "id": "06f89e2d-37ab-46c9-ba98-4aeabfb4a615",
   "metadata": {},
   "outputs": [
    {
     "ename": "ModuleNotFoundError",
     "evalue": "No module named 'tensorflow'",
     "output_type": "error",
     "traceback": [
      "\u001b[1;31m---------------------------------------------------------------------------\u001b[0m",
      "\u001b[1;31mModuleNotFoundError\u001b[0m                       Traceback (most recent call last)",
      "Cell \u001b[1;32mIn[9], line 7\u001b[0m\n\u001b[0;32m      4\u001b[0m \u001b[38;5;28;01mimport\u001b[39;00m \u001b[38;5;21;01mmatplotlib\u001b[39;00m\u001b[38;5;21;01m.\u001b[39;00m\u001b[38;5;21;01mpyplot\u001b[39;00m \u001b[38;5;28;01mas\u001b[39;00m \u001b[38;5;21;01mplt\u001b[39;00m\n\u001b[0;32m      6\u001b[0m \u001b[38;5;66;03m# 텐서플로우 처리\u001b[39;00m\n\u001b[1;32m----> 7\u001b[0m \u001b[38;5;28;01mimport\u001b[39;00m \u001b[38;5;21;01mtensorflow\u001b[39;00m \u001b[38;5;28;01mas\u001b[39;00m \u001b[38;5;21;01mtf\u001b[39;00m\n\u001b[0;32m      8\u001b[0m \u001b[38;5;28;01mfrom\u001b[39;00m \u001b[38;5;21;01mtensorflow\u001b[39;00m \u001b[38;5;28;01mimport\u001b[39;00m keras\n\u001b[0;32m     10\u001b[0m \u001b[38;5;66;03m# 학습 시간 확인\u001b[39;00m\n",
      "\u001b[1;31mModuleNotFoundError\u001b[0m: No module named 'tensorflow'"
     ]
    }
   ],
   "source": [
    "# 그래프, 연산처리\n",
    "import numpy as np\n",
    "import pandas as pd\n",
    "import matplotlib.pyplot as plt\n",
    "\n",
    "# 텐서플로우 처리\n",
    "import tensorflow as tf\n",
    "from tensorflow import keras\n",
    "\n",
    "# 학습 시간 확인\n",
    "import time\n",
    "\n",
    "# 텐서플로우 모델 설계\n",
    "from tensorflow.keras.optimizers import Adam\n",
    "from tensorflow.keras.layers import Dense, Input"
   ]
  },
  {
   "cell_type": "markdown",
   "id": "f63f1bb6-1e9b-42b0-8115-5a9b2edd28cc",
   "metadata": {},
   "source": [
    "# 2. 버전 확인"
   ]
  },
  {
   "cell_type": "code",
   "execution_count": 8,
   "id": "b76bff36-c3d6-4dd6-a6ff-adc5f57d5ae0",
   "metadata": {},
   "outputs": [
    {
     "ename": "NameError",
     "evalue": "name 'tf' is not defined",
     "output_type": "error",
     "traceback": [
      "\u001b[1;31m---------------------------------------------------------------------------\u001b[0m",
      "\u001b[1;31mNameError\u001b[0m                                 Traceback (most recent call last)",
      "Cell \u001b[1;32mIn[8], line 2\u001b[0m\n\u001b[0;32m      1\u001b[0m \u001b[38;5;66;03m# 버전 확인\u001b[39;00m\n\u001b[1;32m----> 2\u001b[0m \u001b[38;5;28mprint\u001b[39m(\u001b[38;5;124m\"\u001b[39m\u001b[38;5;124mtensorflow: \u001b[39m\u001b[38;5;124m\"\u001b[39m, tf\u001b[38;5;241m.\u001b[39m__version__)\n\u001b[0;32m      3\u001b[0m \u001b[38;5;28mprint\u001b[39m(\u001b[38;5;124m\"\u001b[39m\u001b[38;5;124mnumpy: \u001b[39m\u001b[38;5;124m\"\u001b[39m, np\u001b[38;5;241m.\u001b[39m__version__)\n",
      "\u001b[1;31mNameError\u001b[0m: name 'tf' is not defined"
     ]
    }
   ],
   "source": [
    "# 버전 확인\n",
    "print(\"tensorflow: \", tf.__version__)\n",
    "print(\"numpy: \", np.__version__)"
   ]
  },
  {
   "cell_type": "markdown",
   "id": "529244f1-375d-4d19-8c77-ec7d03ed1966",
   "metadata": {},
   "source": [
    "# 3. 그래프를 작성"
   ]
  },
  {
   "cell_type": "code",
   "execution_count": 17,
   "id": "fc4d8033-15ec-48f3-a279-f486574e222a",
   "metadata": {},
   "outputs": [
    {
     "data": {
      "text/plain": [
       "<matplotlib.collections.PathCollection at 0x1eacb9190d0>"
      ]
     },
     "execution_count": 17,
     "metadata": {},
     "output_type": "execute_result"
    },
    {
     "data": {
      "image/png": "[encoded data removed]",
      "text/plain": [
       "<Figure size 640x480 with 1 Axes>"
      ]
     },
     "metadata": {},
     "output_type": "display_data"
    }
   ],
   "source": [
    "x = np.arange(-1,1,0.01)\n",
    "y = x**2\n",
    "\n",
    "plt.scatter(x, y)"
   ]
  },
  {
   "cell_type": "markdown",
   "id": "138d0d1a-20e1-42ac-90ad-fd56c3e8f3cb",
   "metadata": {},
   "source": [
    "# 4. 데이터가 어떤 구조를 가지고 있는지"
   ]
  },
  {
   "cell_type": "code",
   "execution_count": 20,
   "id": "2c9370ce-4c42-48c4-8b0f-4be663b578f7",
   "metadata": {},
   "outputs": [
    {
     "name": "stdout",
     "output_type": "stream",
     "text": [
      "데이터크기(x): 200\n",
      "데이터구조(x): (200,)\n"
     ]
    }
   ],
   "source": [
    "print(\"데이터크기(x):\", len(x))\n",
    "print(\"데이터구조(x):\", x.shape)"
   ]
  },
  {
   "cell_type": "markdown",
   "id": "d214b389-dc5f-4e3a-b913-fcbb2611dcd5",
   "metadata": {},
   "source": [
    "# 5. 간단한 tensorflow 모델 생성"
   ]
  },
  {
   "cell_type": "code",
   "execution_count": 26,
   "id": "804dc986-d252-4aad-b387-8823c2312991",
   "metadata": {
    "scrolled": true
   },
   "outputs": [
    {
     "ename": "NameError",
     "evalue": "name 'keras' is not defined",
     "output_type": "error",
     "traceback": [
      "\u001b[1;31m---------------------------------------------------------------------------\u001b[0m",
      "\u001b[1;31mNameError\u001b[0m                                 Traceback (most recent call last)",
      "Cell \u001b[1;32mIn[26], line 2\u001b[0m\n\u001b[0;32m      1\u001b[0m \u001b[38;5;66;03m# 모델 정의\u001b[39;00m\n\u001b[1;32m----> 2\u001b[0m model \u001b[38;5;241m=\u001b[39m keras\u001b[38;5;241m.\u001b[39mSequential()\n\u001b[0;32m      3\u001b[0m model\u001b[38;5;241m.\u001b[39madd(Input([\u001b[38;5;241m1\u001b[39m]))\n\u001b[0;32m      4\u001b[0m model\u001b[38;5;241m.\u001b[39madd(Dense(\u001b[38;5;241m10\u001b[39m, activation\u001b[38;5;241m=\u001b[39m\u001b[38;5;124m'\u001b[39m\u001b[38;5;124mtanh\u001b[39m\u001b[38;5;124m'\u001b[39m))\n",
      "\u001b[1;31mNameError\u001b[0m: name 'keras' is not defined"
     ]
    }
   ],
   "source": [
    "# 모델 정의\n",
    "model = keras.Sequential() # 층을 순차적으로 추가\n",
    "model.add(Input([1])) # Input 층을 추가, 1차원 벡터\n",
    "model.add(Dense(10, activation='tanh')) # Dense 층(완전 연결 층), 10개의 뉴런을 가지며, 활성화 함수로 tanh를 사용\n",
    "model.add(Dense(10, activation='tanh'))\n",
    "model.add(Dense(10, activation='tanh'))\n",
    "model.add(Dense(10, activation='tanh'))\n",
    "model.add(Dense(1))"
   ]
  },
  {
   "cell_type": "code",
   "execution_count": 27,
   "id": "cbdf3428-1090-4f18-bc75-13c443bfedfd",
   "metadata": {},
   "outputs": [
    {
     "ename": "NameError",
     "evalue": "name 'model' is not defined",
     "output_type": "error",
     "traceback": [
      "\u001b[1;31m---------------------------------------------------------------------------\u001b[0m",
      "\u001b[1;31mNameError\u001b[0m                                 Traceback (most recent call last)",
      "Cell \u001b[1;32mIn[27], line 2\u001b[0m\n\u001b[0;32m      1\u001b[0m \u001b[38;5;66;03m# 컴파일\u001b[39;00m\n\u001b[1;32m----> 2\u001b[0m model\u001b[38;5;241m.\u001b[39mcompile(optimizer\u001b[38;5;241m=\u001b[39m\u001b[38;5;124m'\u001b[39m\u001b[38;5;124mSGD\u001b[39m\u001b[38;5;124m'\u001b[39m, loss\u001b[38;5;241m=\u001b[39m\u001b[38;5;124m'\u001b[39m\u001b[38;5;124mmse\u001b[39m\u001b[38;5;124m'\u001b[39m)\n",
      "\u001b[1;31mNameError\u001b[0m: name 'model' is not defined"
     ]
    }
   ],
   "source": [
    "# 컴파일 : 모델을 학습시키기 위한 준비 단계로, 모델이 어떻게 학습하고 평가될지를 설정\n",
    "# 'SGD'(Stochastic Gradient Descent, 확률적 경사 하강법) : 각 학습 단계에서 무작위로 선택된 일부 데이터(미니 배치)를 사용하여 손실 함수의 기울기를 계산하고, 이를 통해 가중치를 업데이트\n",
    "# 'mse'(Mean Squared Error, 평균 제곱 오차) : 예측값과 실제값의 차이를 제곱하여 평균한 값\n",
    "model.compile(optimizer='SGD', loss='mse') "
   ]
  },
  {
   "cell_type": "code",
   "execution_count": null,
   "id": "4bdf0893-83b8-4a01-8579-93ec19d6db41",
   "metadata": {},
   "outputs": [],
   "source": [
    "# 학습\n",
    "model.fit(x, y, epoch=1000, verbose=1, batch_size=20)"
   ]
  },
  {
   "cell_type": "code",
   "execution_count": 30,
   "id": "ecf67086-2759-4a5f-839d-9f0aaa479d44",
   "metadata": {},
   "outputs": [
    {
     "ename": "NameError",
     "evalue": "name 'model' is not defined",
     "output_type": "error",
     "traceback": [
      "\u001b[1;31m---------------------------------------------------------------------------\u001b[0m",
      "\u001b[1;31mNameError\u001b[0m                                 Traceback (most recent call last)",
      "Cell \u001b[1;32mIn[30], line 2\u001b[0m\n\u001b[0;32m      1\u001b[0m \u001b[38;5;66;03m# 예측\u001b[39;00m\n\u001b[1;32m----> 2\u001b[0m rst \u001b[38;5;241m=\u001b[39m model\u001b[38;5;241m.\u001b[39mpredict(x)\n",
      "\u001b[1;31mNameError\u001b[0m: name 'model' is not defined"
     ]
    }
   ],
   "source": [
    "# 예측\n",
    "rst = model.predict(x)"
   ]
  },
  {
   "cell_type": "code",
   "execution_count": null,
   "id": "d78aefdb-bd64-4472-b04d-0fdb60fb2dda",
   "metadata": {},
   "outputs": [],
   "source": [
    "# 결과를 그래프로 확인\n",
    "plt.scatter(x,y)\n",
    "plt.scatter(x, rst, color = 'r') # 예측 결과값\n",
    "plt.show()\n",
    "# 이걸 하는 이유는 그래프가 비슷하지 않으면 수정하기 위함"
   ]
  },
  {
   "cell_type": "markdown",
   "id": "e51c582c-d49f-4642-b78f-4c840c9a9fdf",
   "metadata": {},
   "source": [
    "# 테스트 셋으로 평가"
   ]
  },
  {
   "cell_type": "code",
   "execution_count": 44,
   "id": "6b5275c5-cab6-488e-9acb-bbc2095c4bea",
   "metadata": {},
   "outputs": [],
   "source": [
    "x = np.arange(-1, 1, 0.01)\n",
    "np.random.shuffle(x)\n",
    "y = x**2"
   ]
  },
  {
   "cell_type": "code",
   "execution_count": 45,
   "id": "01e18bc7-39e6-48f9-a4aa-355d5be0add2",
   "metadata": {},
   "outputs": [
    {
     "data": {
      "text/plain": [
       "(200,)"
      ]
     },
     "execution_count": 45,
     "metadata": {},
     "output_type": "execute_result"
    }
   ],
   "source": [
    "x.shape"
   ]
  },
  {
   "cell_type": "code",
   "execution_count": 46,
   "id": "b12d3bf4-f75d-4e3b-b90b-497f3b23b0f0",
   "metadata": {},
   "outputs": [
    {
     "data": {
      "text/plain": [
       "140"
      ]
     },
     "execution_count": 46,
     "metadata": {},
     "output_type": "execute_result"
    }
   ],
   "source": [
    "# 데이터 분리\n",
    "split_index = int(x.shape[0]*0.7) # 7:3으로 나누고 싶을때 0.7 곱해줌\n",
    "split_index"
   ]
  },
  {
   "cell_type": "code",
   "execution_count": 47,
   "id": "dc6a661f-00ce-44be-98d2-426da245bbbd",
   "metadata": {},
   "outputs": [],
   "source": [
    "# 데이터 분리 처리\n",
    "train_x, test_x = x[:split_index], x[split_index:]\n",
    "train_y, test_y = y[:split_index], y[split_index:]"
   ]
  },
  {
   "cell_type": "code",
   "execution_count": 48,
   "id": "53f49e8b-4352-437f-9789-b8be3086abfd",
   "metadata": {},
   "outputs": [
    {
     "data": {
      "text/plain": [
       "((140,), (60,), (140,), (60,))"
      ]
     },
     "execution_count": 48,
     "metadata": {},
     "output_type": "execute_result"
    }
   ],
   "source": [
    "train_x.shape, test_x.shape, train_y.shape, test_y.shape"
   ]
  },
  {
   "cell_type": "code",
   "execution_count": 54,
   "id": "d7486986-c023-428a-ae75-8eb33672c924",
   "metadata": {},
   "outputs": [
    {
     "data": {
      "image/png": "[encoded data removed]",
      "text/plain": [
       "<Figure size 640x480 with 1 Axes>"
      ]
     },
     "metadata": {},
     "output_type": "display_data"
    }
   ],
   "source": [
    "# 데이터를 섞었을때 데이터가 어떻게 표시되는지\n",
    "plt.scatter(train_x, train_y)\n",
    "plt.scatter(test_x, test_y)\n",
    "plt.show()"
   ]
  },
  {
   "cell_type": "code",
   "execution_count": 55,
   "id": "231918a3-e7a2-4571-8508-e4f34b625282",
   "metadata": {},
   "outputs": [
    {
     "data": {
      "text/plain": [
       "<Figure size 640x480 with 0 Axes>"
      ]
     },
     "metadata": {},
     "output_type": "display_data"
    }
   ],
   "source": [
    "# 그래프 저장\n",
    "plt.savefig('img_test.png')"
   ]
  },
  {
   "cell_type": "markdown",
   "id": "f9b1e2b9-da6b-4834-8410-8832e93e0007",
   "metadata": {},
   "source": [
    "# 저장된 이미지를 불러와서 보여주고 싶은 경우"
   ]
  },
  {
   "cell_type": "code",
   "execution_count": 34,
   "id": "f91d37f5-0f5b-4d8b-ab77-43a3cfc6a6f7",
   "metadata": {},
   "outputs": [
    {
     "ename": "ModuleNotFoundError",
     "evalue": "No module named 'iPython'",
     "output_type": "error",
     "traceback": [
      "\u001b[1;31m---------------------------------------------------------------------------\u001b[0m",
      "\u001b[1;31mModuleNotFoundError\u001b[0m                       Traceback (most recent call last)",
      "Cell \u001b[1;32mIn[34], line 1\u001b[0m\n\u001b[1;32m----> 1\u001b[0m \u001b[38;5;28;01mfrom\u001b[39;00m \u001b[38;5;21;01miPython\u001b[39;00m\u001b[38;5;21;01m.\u001b[39;00m\u001b[38;5;21;01mdisplay\u001b[39;00m \u001b[38;5;28;01mimport\u001b[39;00m Image\n\u001b[0;32m      2\u001b[0m display(Image(\u001b[38;5;124m\"\u001b[39m\u001b[38;5;124m./img_test.png\u001b[39m\u001b[38;5;124m\"\u001b[39m))\n",
      "\u001b[1;31mModuleNotFoundError\u001b[0m: No module named 'iPython'"
     ]
    }
   ],
   "source": [
    "from iPython.display import Image\n",
    "display(Image(\"./img_test.png\"))"
   ]
  },
  {
   "cell_type": "markdown",
   "id": "74d487c4-ae4f-4c9b-9eff-6567bcefa946",
   "metadata": {},
   "source": [
    "# 외부에 명령어 사용"
   ]
  },
  {
   "cell_type": "code",
   "execution_count": 24,
   "id": "15211812-363e-4c0a-ae10-2b920c8721ab",
   "metadata": {},
   "outputs": [
    {
     "name": "stdout",
     "output_type": "stream",
     "text": [
      " D 드라이브의 볼륨: 백업디스크\n",
      " 볼륨 일련 번호: 080F-4620\n",
      "\n",
      " D:\\AI-DX-education\\ai_exam\\cnn_exam 디렉터리\n",
      "\n",
      "2024-05-20  오전 11:24    <DIR>          .\n",
      "2024-05-20  오전 11:24    <DIR>          ..\n",
      "2024-05-20  오전 11:24    <DIR>          .ipynb_checkpoints\n",
      "2024-05-17  오후 05:28             1,489 7.jpg\n",
      "2024-05-17  오후 05:24           773,200 mnist_cnn_20240517_epochs_50_9865.h5\n",
      "2024-05-17  오후 03:33            32,294 model.png\n",
      "2024-05-17  오후 01:32             2,721 requirements.txt\n",
      "2024-05-17  오후 05:43           304,998 tensorflow_cnn.ipynb\n",
      "2024-05-17  오후 12:03           109,752 tensorflow_linear.ipynb\n",
      "2024-05-20  오전 11:24            81,020 tensorflow_module.ipynb\n",
      "2024-05-17  오전 11:23                 0 test.py\n",
      "2024-05-20  오전 10:07                72 Untitled.ipynb\n",
      "               9개 파일           1,305,546 바이트\n",
      "               3개 디렉터리  31,840,460,800 바이트 남음\n"
     ]
    }
   ],
   "source": [
    "!dir"
   ]
  },
  {
   "cell_type": "markdown",
   "id": "63e4efcb-bcc1-4e77-b2e0-5a6f6ab6ee39",
   "metadata": {},
   "source": [
    "# 학습 시간 출력"
   ]
  },
  {
   "cell_type": "code",
   "execution_count": 35,
   "id": "d8838f55-7ab4-4e95-b6d6-c94a04bf1818",
   "metadata": {},
   "outputs": [
    {
     "ename": "NameError",
     "evalue": "name 'keras' is not defined",
     "output_type": "error",
     "traceback": [
      "\u001b[1;31m---------------------------------------------------------------------------\u001b[0m",
      "\u001b[1;31mNameError\u001b[0m                                 Traceback (most recent call last)",
      "Cell \u001b[1;32mIn[35], line 1\u001b[0m\n\u001b[1;32m----> 1\u001b[0m model \u001b[38;5;241m=\u001b[39m keras\u001b[38;5;241m.\u001b[39mSequential()\n\u001b[0;32m      2\u001b[0m model\u001b[38;5;241m.\u001b[39madd(Dense(\u001b[38;5;241m10\u001b[39m, activation\u001b[38;5;241m=\u001b[39m\u001b[38;5;124m'\u001b[39m\u001b[38;5;124mtanh\u001b[39m\u001b[38;5;124m'\u001b[39m,input_shape\u001b[38;5;241m=\u001b[39m(\u001b[38;5;241m1\u001b[39m,)))\n\u001b[0;32m      3\u001b[0m model\u001b[38;5;241m.\u001b[39madd(Dense(\u001b[38;5;241m10\u001b[39m, activation\u001b[38;5;241m=\u001b[39m\u001b[38;5;124m'\u001b[39m\u001b[38;5;124mtanh\u001b[39m\u001b[38;5;124m'\u001b[39m))\n",
      "\u001b[1;31mNameError\u001b[0m: name 'keras' is not defined"
     ]
    }
   ],
   "source": [
    "model = keras.Sequential()\n",
    "model.add(Dense(10, activation='tanh',input_shape=(1,)))\n",
    "model.add(Dense(10, activation='tanh'))\n",
    "model.add(Dense(1))\n",
    "\n",
    "model.compile(optimizer='SGD', loss='mse', metrics=['mse'])"
   ]
  },
  {
   "cell_type": "code",
   "execution_count": 57,
   "id": "61a11959-cd78-4a58-ba7e-a06ba4de2f11",
   "metadata": {},
   "outputs": [
    {
     "ename": "NameError",
     "evalue": "name 'time' is not defined",
     "output_type": "error",
     "traceback": [
      "\u001b[1;31m---------------------------------------------------------------------------\u001b[0m",
      "\u001b[1;31mNameError\u001b[0m                                 Traceback (most recent call last)",
      "Cell \u001b[1;32mIn[57], line 2\u001b[0m\n\u001b[0;32m      1\u001b[0m \u001b[38;5;66;03m# 시간 체크\u001b[39;00m\n\u001b[1;32m----> 2\u001b[0m start_time \u001b[38;5;241m=\u001b[39m time\u001b[38;5;241m.\u001b[39mtime() \u001b[38;5;66;03m# 시작\u001b[39;00m\n\u001b[0;32m      4\u001b[0m \u001b[38;5;66;03m# 모델 학습\u001b[39;00m\n\u001b[0;32m      5\u001b[0m model\u001b[38;5;241m.\u001b[39mfit(train_x, train_y, epoch\u001b[38;5;241m=\u001b[39m\u001b[38;5;241m500\u001b[39m, verbose\u001b[38;5;241m=\u001b[39m\u001b[38;5;241m1\u001b[39m, batch_size\u001b[38;5;241m=\u001b[39m\u001b[38;5;241m20\u001b[39m)\n",
      "\u001b[1;31mNameError\u001b[0m: name 'time' is not defined"
     ]
    }
   ],
   "source": [
    "# 시간 체크\n",
    "start_time = time.time() # 시작\n",
    "\n",
    "# 모델 학습\n",
    "model.fit(train_x, train_y, epoch=500, verbose=1, batch_size=20)\n",
    "\n",
    "# 학습 종료\n",
    "print(\"학습시간 : {}\".format(time.time() - start_time))"
   ]
  },
  {
   "cell_type": "markdown",
   "id": "05fc3ab9-cd0d-4dae-b066-344fe49507a8",
   "metadata": {},
   "source": [
    "# 데이터를 sin으로 변경해서 처리"
   ]
  },
  {
   "cell_type": "code",
   "execution_count": 58,
   "id": "45b434c2-67ad-42fa-9120-f09ef77c418d",
   "metadata": {},
   "outputs": [],
   "source": [
    "# 데이터 sin처리 하는 함수\n",
    "def get_sin_data(start=0, end=10, step=0.1, split=0.6):\n",
    "    x = np.range(start, end, step)\n",
    "    np.random.shuffle(x)\n",
    "    y = np.sin(x)\n",
    "\n",
    "    split_index = int(x.shape[0]*0.6)\n",
    "    \n",
    "    train_x, test_x = x[:split_index], x[split_index:]\n",
    "    train_y, test_y = y[:split_index], y[split_index:]\n",
    "    \n",
    "    return (train_x, train_y), (test_x, test_y)"
   ]
  },
  {
   "cell_type": "code",
   "execution_count": 59,
   "id": "51cc2d89-9b23-402b-9419-cd780b84d524",
   "metadata": {},
   "outputs": [
    {
     "ename": "AttributeError",
     "evalue": "module 'numpy' has no attribute 'range'",
     "output_type": "error",
     "traceback": [
      "\u001b[1;31m---------------------------------------------------------------------------\u001b[0m",
      "\u001b[1;31mAttributeError\u001b[0m                            Traceback (most recent call last)",
      "Cell \u001b[1;32mIn[59], line 1\u001b[0m\n\u001b[1;32m----> 1\u001b[0m (train_x, train_y),(test_x, test_y) \u001b[38;5;241m=\u001b[39m get_sin_data(start\u001b[38;5;241m=\u001b[39m\u001b[38;5;241m0\u001b[39m, end\u001b[38;5;241m=\u001b[39m\u001b[38;5;241m10\u001b[39m, step\u001b[38;5;241m=\u001b[39m\u001b[38;5;241m0.1\u001b[39m)\n",
      "Cell \u001b[1;32mIn[58], line 3\u001b[0m, in \u001b[0;36mget_sin_data\u001b[1;34m(start, end, step)\u001b[0m\n\u001b[0;32m      2\u001b[0m \u001b[38;5;28;01mdef\u001b[39;00m \u001b[38;5;21mget_sin_data\u001b[39m(start\u001b[38;5;241m=\u001b[39m\u001b[38;5;241m0\u001b[39m, end\u001b[38;5;241m=\u001b[39m\u001b[38;5;241m10\u001b[39m, step\u001b[38;5;241m=\u001b[39m\u001b[38;5;241m0.1\u001b[39m):\n\u001b[1;32m----> 3\u001b[0m     x \u001b[38;5;241m=\u001b[39m np\u001b[38;5;241m.\u001b[39mrange(start, end, step)\n\u001b[0;32m      4\u001b[0m     np\u001b[38;5;241m.\u001b[39mrandom\u001b[38;5;241m.\u001b[39mshuffle(x)\n\u001b[0;32m      5\u001b[0m     y \u001b[38;5;241m=\u001b[39m np\u001b[38;5;241m.\u001b[39msin(x)\n",
      "File \u001b[1;32m~\\anaconda3\\Lib\\site-packages\\numpy\\__init__.py:333\u001b[0m, in \u001b[0;36m__getattr__\u001b[1;34m(attr)\u001b[0m\n\u001b[0;32m    330\u001b[0m     \u001b[38;5;124m\"\u001b[39m\u001b[38;5;124mRemoved in NumPy 1.25.0\u001b[39m\u001b[38;5;124m\"\u001b[39m\n\u001b[0;32m    331\u001b[0m     \u001b[38;5;28;01mraise\u001b[39;00m \u001b[38;5;167;01mRuntimeError\u001b[39;00m(\u001b[38;5;124m\"\u001b[39m\u001b[38;5;124mTester was removed in NumPy 1.25.\u001b[39m\u001b[38;5;124m\"\u001b[39m)\n\u001b[1;32m--> 333\u001b[0m \u001b[38;5;28;01mraise\u001b[39;00m \u001b[38;5;167;01mAttributeError\u001b[39;00m(\u001b[38;5;124m\"\u001b[39m\u001b[38;5;124mmodule \u001b[39m\u001b[38;5;132;01m{!r}\u001b[39;00m\u001b[38;5;124m has no attribute \u001b[39m\u001b[38;5;124m\"\u001b[39m\n\u001b[0;32m    334\u001b[0m                      \u001b[38;5;124m\"\u001b[39m\u001b[38;5;132;01m{!r}\u001b[39;00m\u001b[38;5;124m\"\u001b[39m\u001b[38;5;241m.\u001b[39mformat(\u001b[38;5;18m__name__\u001b[39m, attr))\n",
      "\u001b[1;31mAttributeError\u001b[0m: module 'numpy' has no attribute 'range'"
     ]
    }
   ],
   "source": [
    "(train_x, train_y),(test_x, test_y) = get_sin_data(start=0, end=10, step=0.1)"
   ]
  },
  {
   "cell_type": "code",
   "execution_count": null,
   "id": "901719f2-2100-4d38-80ab-c1c4f3f04fba",
   "metadata": {},
   "outputs": [],
   "source": [
    "plt.scatter(train_x, train_y)\n",
    "plt.show()"
   ]
  },
  {
   "cell_type": "code",
   "execution_count": null,
   "id": "45b52479-44e0-4607-9b49-5889180311f6",
   "metadata": {},
   "outputs": [],
   "source": [
    "# 모델 신규 생성\n",
    "model1 = keras.Sequential()\n",
    "model1.add(Dense(10, activation='tanh', input_shape=(1,)))\n",
    "model1.add(Dense(10, activation='tanh'))\n",
    "model1.add(Dense(1))\n",
    "\n",
    "model1.compile(optimizer='SGD', loss='mse', metrics=['mse'])\n",
    "model1.summary()\n",
    "\n",
    "start_line = time.time()\n",
    "model1.fit(train_x, train_y, epochs=1000, verbose=0, batch_size=20)\n",
    "print(\"학습시간 : {}\".format(time.time() = start_time))"
   ]
  },
  {
   "cell_type": "markdown",
   "id": "db5b32db-ec9d-4446-99bd-8225a6ce3ea2",
   "metadata": {},
   "source": [
    "# 결과 보기"
   ]
  },
  {
   "cell_type": "code",
   "execution_count": null,
   "id": "43bca3ab-80f2-4bdc-bc24-e90ffe0e44eb",
   "metadata": {},
   "outputs": [],
   "source": [
    "loss, mse = model1. evaluate(test_x, test_y)"
   ]
  },
  {
   "cell_type": "code",
   "execution_count": null,
   "id": "8ec711cc-1c34-482a-9f82-bd5af4766b64",
   "metadata": {},
   "outputs": [],
   "source": [
    "plt.scatter(test_x, test_y)\n",
    "plt.scatter()\n"
   ]
  },
  {
   "cell_type": "markdown",
   "id": "0b769b4c-d4c4-4ad5-a631-515920a71f64",
   "metadata": {},
   "source": [
    "# 그래프를 조정하여 맞추는 방법"
   ]
  },
  {
   "cell_type": "code",
   "execution_count": null,
   "id": "12964ad9-d62d-47c6-aa9f-7433eca9f41b",
   "metadata": {},
   "outputs": [],
   "source": [
    "def fit_one_more(model, train_x, train_y, test_x, test_y, batch_size=20):\n",
    "    start_time = time.time()\n",
    "    model.fit(train_x, train_y, epochs=1000, verbose=0, batch_size=batch_size)\n",
    "    print(\"학습 진행 : {}\".format(time.time() = start_time))\n",
    "\n",
    "    rst = model.predict(test_x)\n",
    "\n",
    "    plt.scatter(test_x, test_y)\n",
    "    plt.scatter(test_x, rst, color='r')\n",
    "    plt.show()\n",
    "\n",
    "def fit_n_times(model,train_x, train_y, test_x, test_y, n):\n",
    "    for i range(n):\n",
    "        print(f\"{i}시간 학습중...\")\n",
    "        fit_one_more(model, train_x, train_y, test_x, test_y, batch_size=20)"
   ]
  },
  {
   "cell_type": "code",
   "execution_count": null,
   "id": "a9d173b1-9d80-4917-89b6-829ad255ca6f",
   "metadata": {},
   "outputs": [],
   "source": [
    "# 1000번씩 10번 핛브하는 과정을 그래프로 표기\n",
    "fit_n_times(model1, train_x, train_y, test_x, test_y, 10)"
   ]
  },
  {
   "cell_type": "markdown",
   "id": "c3ae7722-d50e-4e97-8274-eacf2a306d8a",
   "metadata": {},
   "source": [
    "# gpu가 있는 경우 [batch개수가 1,2,5,10,20,50,100]"
   ]
  },
  {
   "cell_type": "code",
   "execution_count": null,
   "id": "2966cae8-5763-4837-9262-73afd9df9c9c",
   "metadata": {},
   "outputs": [],
   "source": [
    "def build_model():\n",
    "    model = keras.Sequential()\n",
    "    model.add(Dense(10, activation='tanh', input_shape=(1,)))\n",
    "    model.add(Dense(10, activation='tanh'))\n",
    "    model.add(Dense(1))\n",
    "    \n",
    "    model.compile(optimizer='SGD', loss='mse', metrics=['mse'])\n",
    "    \n",
    "    return model\n",
    "\n",
    "def fit_batch_size(train_x, train_y, test_x, test_y, batch):\n",
    "    for batch in batch_sizes\n",
    "        model = build_model()\n",
    "        print(f\"배치 사이즈 크기 : {}\".format(batch_sizes))\n",
    "        fit_one_more(model, train_x, train_y, test_x, test_y, batch_sizes)"
   ]
  },
  {
   "cell_type": "code",
   "execution_count": null,
   "id": "cee694a0-246a-4c9e-b377-ef537c48c0c1",
   "metadata": {},
   "outputs": [],
   "source": [
    "fit_batch_size(train_x, train_y, test_x, test_y, batch_sizes=[1,2,5,10,20,50,100])"
   ]
  },
  {
   "cell_type": "markdown",
   "id": "43eb9c49-700f-4bd6-a44e-a160cfa14f1c",
   "metadata": {},
   "source": [
    "# 데이터 크기가 영향을 주는지?"
   ]
  },
  {
   "cell_type": "code",
   "execution_count": null,
   "id": "b7acbbc8-6c38-4d1c-babd-1d732f32d22c",
   "metadata": {},
   "outputs": [],
   "source": [
    "(train_x, train_y),(test_x, test_y) = get_sin_data(start=0, end=10, step=0.01)"
   ]
  },
  {
   "cell_type": "code",
   "execution_count": null,
   "id": "4a2497df-f0ce-4dc8-95ce-38fa1267b4dd",
   "metadata": {},
   "outputs": [],
   "source": []
  },
  {
   "cell_type": "markdown",
   "id": "5356d3c0-d698-419b-a3bc-0d8c64231266",
   "metadata": {},
   "source": [
    "# OverFitting, DropOut, BatchNormalizaion, Regularization 처리하는 방법"
   ]
  },
  {
   "cell_type": "code",
   "execution_count": 9,
   "id": "10708b28-ef93-4716-8e28-54bec7cf33f6",
   "metadata": {
    "scrolled": true
   },
   "outputs": [
    {
     "name": "stdout",
     "output_type": "stream",
     "text": [
      "Collecting scikit-learn\n",
      "  Downloading scikit_learn-1.4.2-cp310-cp310-win_amd64.whl.metadata (11 kB)\n",
      "Requirement already satisfied: numpy>=1.19.5 in c:\\users\\hi\\anaconda3\\envs\\p310_cnn\\lib\\site-packages (from scikit-learn) (1.26.4)\n",
      "Collecting scipy>=1.6.0 (from scikit-learn)\n",
      "  Downloading scipy-1.13.0-cp310-cp310-win_amd64.whl.metadata (60 kB)\n",
      "     ---------------------------------------- 0.0/60.6 kB ? eta -:--:--\n",
      "     ---------------------------------------- 0.0/60.6 kB ? eta -:--:--\n",
      "     ------------------------- ------------ 41.0/60.6 kB 653.6 kB/s eta 0:00:01\n",
      "     -------------------------------------- 60.6/60.6 kB 535.5 kB/s eta 0:00:00\n",
      "Collecting joblib>=1.2.0 (from scikit-learn)\n",
      "  Downloading joblib-1.4.2-py3-none-any.whl.metadata (5.4 kB)\n",
      "Collecting threadpoolctl>=2.0.0 (from scikit-learn)\n",
      "  Downloading threadpoolctl-3.5.0-py3-none-any.whl.metadata (13 kB)\n",
      "Downloading scikit_learn-1.4.2-cp310-cp310-win_amd64.whl (10.6 MB)\n",
      "   ---------------------------------------- 0.0/10.6 MB ? eta -:--:--\n",
      "   ---- ----------------------------------- 1.3/10.6 MB 21.1 MB/s eta 0:00:01\n",
      "   ------------- -------------------------- 3.6/10.6 MB 33.4 MB/s eta 0:00:01\n",
      "   --------------------- ------------------ 5.6/10.6 MB 36.1 MB/s eta 0:00:01\n",
      "   ---------------------------------------  10.6/10.6 MB 59.5 MB/s eta 0:00:01\n",
      "   ---------------------------------------  10.6/10.6 MB 59.5 MB/s eta 0:00:01\n",
      "   ---------------------------------------- 10.6/10.6 MB 43.7 MB/s eta 0:00:00\n",
      "Downloading joblib-1.4.2-py3-none-any.whl (301 kB)\n",
      "   ---------------------------------------- 0.0/301.8 kB ? eta -:--:--\n",
      "   --------------------------------------- 301.8/301.8 kB 18.2 MB/s eta 0:00:00\n",
      "Downloading scipy-1.13.0-cp310-cp310-win_amd64.whl (46.2 MB)\n",
      "   ---------------------------------------- 0.0/46.2 MB ? eta -:--:--\n",
      "   ---- ----------------------------------- 5.2/46.2 MB 110.2 MB/s eta 0:00:01\n",
      "   -------- ------------------------------- 9.8/46.2 MB 104.0 MB/s eta 0:00:01\n",
      "   ------------- -------------------------- 15.1/46.2 MB 93.0 MB/s eta 0:00:01\n",
      "   ----------------- ---------------------- 20.1/46.2 MB 93.9 MB/s eta 0:00:01\n",
      "   --------------------- ------------------ 24.8/46.2 MB 93.9 MB/s eta 0:00:01\n",
      "   ------------------------- -------------- 29.6/46.2 MB 93.9 MB/s eta 0:00:01\n",
      "   ----------------------------- ---------- 34.0/46.2 MB 93.9 MB/s eta 0:00:01\n",
      "   -------------------------------- ------- 37.5/46.2 MB 73.1 MB/s eta 0:00:01\n",
      "   ------------------------------------ --- 42.0/46.2 MB 81.8 MB/s eta 0:00:01\n",
      "   ---------------------------------------  46.2/46.2 MB 81.8 MB/s eta 0:00:01\n",
      "   ---------------------------------------  46.2/46.2 MB 81.8 MB/s eta 0:00:01\n",
      "   ---------------------------------------  46.2/46.2 MB 81.8 MB/s eta 0:00:01\n",
      "   ---------------------------------------  46.2/46.2 MB 81.8 MB/s eta 0:00:01\n",
      "   ---------------------------------------- 46.2/46.2 MB 36.4 MB/s eta 0:00:00\n",
      "Downloading threadpoolctl-3.5.0-py3-none-any.whl (18 kB)\n",
      "Installing collected packages: threadpoolctl, scipy, joblib, scikit-learn\n",
      "Successfully installed joblib-1.4.2 scikit-learn-1.4.2 scipy-1.13.0 threadpoolctl-3.5.0\n"
     ]
    },
    {
     "name": "stderr",
     "output_type": "stream",
     "text": [
      "WARNING: Ignoring invalid distribution -eras (c:\\users\\hi\\anaconda3\\envs\\p310_cnn\\lib\\site-packages)\n",
      "WARNING: Ignoring invalid distribution -eras (c:\\users\\hi\\anaconda3\\envs\\p310_cnn\\lib\\site-packages)\n"
     ]
    }
   ],
   "source": [
    "!pip install scikit-learn"
   ]
  },
  {
   "cell_type": "code",
   "execution_count": null,
   "id": "0f180ad2-1320-42af-9891-5b2b94de64c1",
   "metadata": {},
   "outputs": [],
   "source": []
  },
  {
   "cell_type": "markdown",
   "id": "fd6eb65a-705a-4adb-9789-d0cb15df9f8f",
   "metadata": {},
   "source": [
    "# MakeMoon 데이터 matplotlib으로 표시하기"
   ]
  },
  {
   "cell_type": "code",
   "execution_count": 10,
   "id": "5293b50f-bb82-49cf-998d-603cbd6cef65",
   "metadata": {},
   "outputs": [],
   "source": [
    "from sklearn.datasets import make_moons"
   ]
  },
  {
   "cell_type": "code",
   "execution_count": 11,
   "id": "35f915ba-b574-4acd-b2f4-1c116ca20ad9",
   "metadata": {},
   "outputs": [],
   "source": [
    "x, y = make_moons(n_samples=100, noise=0.2, random_state=16)"
   ]
  },
  {
   "cell_type": "code",
   "execution_count": 12,
   "id": "ed2b742b-4748-4e70-83cc-4869ae6a79a7",
   "metadata": {},
   "outputs": [
    {
     "ename": "NameError",
     "evalue": "name 'pd' is not defined",
     "output_type": "error",
     "traceback": [
      "\u001b[1;31m---------------------------------------------------------------------------\u001b[0m",
      "\u001b[1;31mNameError\u001b[0m                                 Traceback (most recent call last)",
      "Cell \u001b[1;32mIn[12], line 1\u001b[0m\n\u001b[1;32m----> 1\u001b[0m df \u001b[38;5;241m=\u001b[39m pd\u001b[38;5;241m.\u001b[39mDataframe(\u001b[38;5;28mdict\u001b[39m(x\u001b[38;5;241m=\u001b[39mx[:,\u001b[38;5;241m0\u001b[39m], y\u001b[38;5;241m=\u001b[39mx[:,\u001b[38;5;241m1\u001b[39m], label\u001b[38;5;241m=\u001b[39my))\n",
      "\u001b[1;31mNameError\u001b[0m: name 'pd' is not defined"
     ]
    }
   ],
   "source": [
    "df = pd.Dataframe(dict(x=x[:,0], y=x[:,1], label=y))"
   ]
  },
  {
   "cell_type": "code",
   "execution_count": 13,
   "id": "16f4ec6a-c46d-4a2a-a1dc-8e26a1b57cc0",
   "metadata": {},
   "outputs": [
    {
     "ename": "NameError",
     "evalue": "name 'df' is not defined",
     "output_type": "error",
     "traceback": [
      "\u001b[1;31m---------------------------------------------------------------------------\u001b[0m",
      "\u001b[1;31mNameError\u001b[0m                                 Traceback (most recent call last)",
      "Cell \u001b[1;32mIn[13], line 1\u001b[0m\n\u001b[1;32m----> 1\u001b[0m df\n",
      "\u001b[1;31mNameError\u001b[0m: name 'df' is not defined"
     ]
    }
   ],
   "source": [
    "df"
   ]
  },
  {
   "cell_type": "markdown",
   "id": "63841428-52b4-44d3-8e36-391994c46758",
   "metadata": {},
   "source": [
    "# 데이터를 이미지로 표시하는 시각화"
   ]
  },
  {
   "cell_type": "code",
   "execution_count": 14,
   "id": "6f3e95dd-2d22-42b0-bd92-62f4e3cd142d",
   "metadata": {},
   "outputs": [
    {
     "ename": "NameError",
     "evalue": "name 'plt' is not defined",
     "output_type": "error",
     "traceback": [
      "\u001b[1;31m---------------------------------------------------------------------------\u001b[0m",
      "\u001b[1;31mNameError\u001b[0m                                 Traceback (most recent call last)",
      "Cell \u001b[1;32mIn[14], line 1\u001b[0m\n\u001b[1;32m----> 1\u001b[0m fig, ax \u001b[38;5;241m=\u001b[39m plt\u001b[38;5;241m.\u001b[39msubplots()\n\u001b[0;32m      2\u001b[0m group \u001b[38;5;241m=\u001b[39m df\u001b[38;5;241m.\u001b[39mgroupby(\u001b[38;5;124m'\u001b[39m\u001b[38;5;124mlabel\u001b[39m\u001b[38;5;124m'\u001b[39m)\n",
      "\u001b[1;31mNameError\u001b[0m: name 'plt' is not defined"
     ]
    }
   ],
   "source": [
    "fig, ax = plt.subplots()\n",
    "groups = df.groupby('label')\n",
    "\n",
    "color = ['red', 'green']\n",
    "\n",
    "for idx, group in groups:\n",
    "    group.plot(ax=ax, kind='scatter', x='x', y='y',label=index, color=colors[idx])"
   ]
  },
  {
   "cell_type": "code",
   "execution_count": null,
   "id": "0aa8c744-f335-48aa-86db-1917a3f88756",
   "metadata": {},
   "outputs": [],
   "source": [
    "# 데이터 train"
   ]
  },
  {
   "cell_type": "code",
   "execution_count": null,
   "id": "b618821d-4737-4d24-a86d-8d4b7b6211df",
   "metadata": {},
   "outputs": [],
   "source": []
  },
  {
   "cell_type": "code",
   "execution_count": null,
   "id": "123aa98b-9505-4ec1-99e1-62a09ed402a6",
   "metadata": {},
   "outputs": [],
   "source": []
  },
  {
   "cell_type": "code",
   "execution_count": null,
   "id": "b220f2ce-4d96-416e-9226-a9625e0a5bb6",
   "metadata": {},
   "outputs": [],
   "source": []
  },
  {
   "cell_type": "code",
   "execution_count": null,
   "id": "3487532e-8232-499d-abfb-b04aec8b2d7f",
   "metadata": {},
   "outputs": [],
   "source": []
  },
  {
   "cell_type": "code",
   "execution_count": null,
   "id": "e32ba0be-4e42-4e63-9d8c-75781e8f8313",
   "metadata": {},
   "outputs": [],
   "source": []
  },
  {
   "cell_type": "code",
   "execution_count": null,
   "id": "0d531664-b5fc-4655-8ed1-efd864f2805e",
   "metadata": {},
   "outputs": [],
   "source": []
  },
  {
   "cell_type": "code",
   "execution_count": null,
   "id": "a051ff14-e075-442c-a812-92c0be93a21b",
   "metadata": {},
   "outputs": [],
   "source": []
  },
  {
   "cell_type": "code",
   "execution_count": null,
   "id": "1125c034-d326-417e-bf75-c54c12a413b7",
   "metadata": {},
   "outputs": [],
   "source": []
  },
  {
   "cell_type": "code",
   "execution_count": null,
   "id": "01f4dfb5-38b4-4064-bb65-09914a9968b0",
   "metadata": {},
   "outputs": [],
   "source": []
  },
  {
   "cell_type": "code",
   "execution_count": null,
   "id": "a0000b5f-b9d6-4f97-b3e3-3c125332e3a9",
   "metadata": {},
   "outputs": [],
   "source": []
  },
  {
   "cell_type": "code",
   "execution_count": null,
   "id": "3648d07c-45e6-4b21-9e0a-250581a79e08",
   "metadata": {},
   "outputs": [],
   "source": []
  },
  {
   "cell_type": "code",
   "execution_count": null,
   "id": "76cf4bac-8342-48e0-9cf6-0cb5f9c2c46b",
   "metadata": {},
   "outputs": [],
   "source": []
  },
  {
   "cell_type": "code",
   "execution_count": null,
   "id": "ffc20f2a-6d54-4db3-acda-a9b5aead7d1c",
   "metadata": {},
   "outputs": [],
   "source": []
  },
  {
   "cell_type": "code",
   "execution_count": null,
   "id": "9290ab13-455f-4ca9-be08-d472e285482b",
   "metadata": {},
   "outputs": [],
   "source": []
  },
  {
   "cell_type": "code",
   "execution_count": null,
   "id": "19c643bd-a67d-44af-bce6-1fd1600c273b",
   "metadata": {},
   "outputs": [],
   "source": []
  },
  {
   "cell_type": "code",
   "execution_count": null,
   "id": "2c4a59a4-1e02-49eb-988f-6a33b1d02cc6",
   "metadata": {},
   "outputs": [],
   "source": []
  },
  {
   "cell_type": "code",
   "execution_count": null,
   "id": "018b782a-1356-438a-ae0a-2a6409833ddd",
   "metadata": {},
   "outputs": [],
   "source": []
  }
 ],
 "metadata": {
  "kernelspec": {
   "display_name": "Python 3 (ipykernel)",
   "language": "python",
   "name": "python3"
  },
  "language_info": {
   "codemirror_mode": {
    "name": "ipython",
    "version": 3
   },
   "file_extension": ".py",
   "mimetype": "text/x-python",
   "name": "python",
   "nbconvert_exporter": "python",
   "pygments_lexer": "ipython3",
   "version": "3.11.7"
  }
 },
 "nbformat": 4,
 "nbformat_minor": 5
}
